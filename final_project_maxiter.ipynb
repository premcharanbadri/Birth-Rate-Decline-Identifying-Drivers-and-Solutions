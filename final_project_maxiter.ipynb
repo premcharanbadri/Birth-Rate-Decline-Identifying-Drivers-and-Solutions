{
  "cells": [
    {
      "cell_type": "code",
      "execution_count": 1,
      "id": "2402fcb4-9125-49b8-af51-9145a22acc56",
      "metadata": {
        "id": "2402fcb4-9125-49b8-af51-9145a22acc56"
      },
      "outputs": [],
      "source": [
        "from pandas import Series, DataFrame\n",
        "import pandas as pd\n",
        "from patsy import dmatrices\n",
        "import matplotlib.pyplot as plt\n",
        "from sklearn.model_selection import train_test_split\n",
        "from sklearn.linear_model import LogisticRegression\n",
        "from sklearn.ensemble import RandomForestClassifier\n",
        "from sklearn import metrics, tree\n",
        "from xgboost import XGBClassifier\n",
        "import xgboost as xgb\n",
        "from sklearn.metrics import accuracy_score, confusion_matrix"
      ]
    },
    {
      "cell_type": "markdown",
      "id": "db1e4864-0a6a-4e95-bfd3-f83683dab2e7",
      "metadata": {
        "id": "db1e4864-0a6a-4e95-bfd3-f83683dab2e7"
      },
      "source": [
        "# Reading in Data"
      ]
    },
    {
      "cell_type": "code",
      "execution_count": 41,
      "id": "a6810ee9-af0f-482d-bb15-78641846dbde",
      "metadata": {
        "id": "a6810ee9-af0f-482d-bb15-78641846dbde"
      },
      "outputs": [],
      "source": [
        "df = pd.read_csv('birthrate.csv.gz')"
      ]
    },
    {
      "cell_type": "code",
      "execution_count": 42,
      "id": "c9c926b9-1dbd-45b2-a000-fd5f9f8e9634",
      "metadata": {
        "scrolled": true,
        "colab": {
          "base_uri": "https://localhost:8080/"
        },
        "id": "c9c926b9-1dbd-45b2-a000-fd5f9f8e9634",
        "outputId": "ddfd338f-6008-401c-a26f-979ef43efb9d"
      },
      "outputs": [
        {
          "output_type": "execute_result",
          "data": {
            "text/plain": [
              "Index(['YEAR', 'HOUSEHOLD_INCOME', 'CHILDREN_STATUS', 'NUMBER_OF_CHILDREN',\n",
              "       'PERSON_WEIGHT', 'AGE', 'CLASS_OF_WORKER', 'GAVE_BIRTH_12MO',\n",
              "       'MARITAL_STATUS', 'NUM_TIMES_MARRIED', 'YEAR_LAST_MARRIED',\n",
              "       'MOBILITY_STATUS', 'GRADE_LEVEL_ATTENDING', 'EDUCATION', 'SEX',\n",
              "       'WHEN_LAST_WORKED', 'EMPLOYMENT_STATUS', 'HEALTH_INSURANCE',\n",
              "       'INCOME_TOTAL'],\n",
              "      dtype='object')"
            ]
          },
          "metadata": {},
          "execution_count": 42
        }
      ],
      "source": [
        "df.columns"
      ]
    },
    {
      "cell_type": "markdown",
      "id": "aa8f3c4b-4d5f-4ca8-8192-39fcbf530540",
      "metadata": {
        "id": "aa8f3c4b-4d5f-4ca8-8192-39fcbf530540"
      },
      "source": [
        "===========================EDA ===================================="
      ]
    },
    {
      "cell_type": "code",
      "execution_count": 4,
      "id": "aaa93690-5148-4174-a600-0ccdb7a539a4",
      "metadata": {
        "colab": {
          "base_uri": "https://localhost:8080/"
        },
        "id": "aaa93690-5148-4174-a600-0ccdb7a539a4",
        "outputId": "8bf2b54b-db10-4bd0-d9d4-4e57b1c22e68"
      },
      "outputs": [
        {
          "output_type": "execute_result",
          "data": {
            "text/plain": [
              "(38984, 19)"
            ]
          },
          "metadata": {},
          "execution_count": 4
        }
      ],
      "source": [
        "df.shape"
      ]
    },
    {
      "cell_type": "code",
      "execution_count": 5,
      "id": "433f6bd5-4d39-4d91-a940-c4eb8f08dcc7",
      "metadata": {
        "scrolled": true,
        "colab": {
          "base_uri": "https://localhost:8080/",
          "height": 269
        },
        "id": "433f6bd5-4d39-4d91-a940-c4eb8f08dcc7",
        "outputId": "677bbc81-a5ae-492b-c5d0-348346fc1515"
      },
      "outputs": [
        {
          "output_type": "execute_result",
          "data": {
            "text/plain": [
              "MARITAL_STATUS\n",
              "Married                                18856\n",
              "Never married or under 15 years old    15069\n",
              "Divorced                                3826\n",
              "Separated                                749\n",
              "Widowed                                  483\n",
              "Name: count, dtype: int64"
            ],
            "text/html": [
              "<div>\n",
              "<style scoped>\n",
              "    .dataframe tbody tr th:only-of-type {\n",
              "        vertical-align: middle;\n",
              "    }\n",
              "\n",
              "    .dataframe tbody tr th {\n",
              "        vertical-align: top;\n",
              "    }\n",
              "\n",
              "    .dataframe thead th {\n",
              "        text-align: right;\n",
              "    }\n",
              "</style>\n",
              "<table border=\"1\" class=\"dataframe\">\n",
              "  <thead>\n",
              "    <tr style=\"text-align: right;\">\n",
              "      <th></th>\n",
              "      <th>count</th>\n",
              "    </tr>\n",
              "    <tr>\n",
              "      <th>MARITAL_STATUS</th>\n",
              "      <th></th>\n",
              "    </tr>\n",
              "  </thead>\n",
              "  <tbody>\n",
              "    <tr>\n",
              "      <th>Married</th>\n",
              "      <td>18856</td>\n",
              "    </tr>\n",
              "    <tr>\n",
              "      <th>Never married or under 15 years old</th>\n",
              "      <td>15069</td>\n",
              "    </tr>\n",
              "    <tr>\n",
              "      <th>Divorced</th>\n",
              "      <td>3826</td>\n",
              "    </tr>\n",
              "    <tr>\n",
              "      <th>Separated</th>\n",
              "      <td>749</td>\n",
              "    </tr>\n",
              "    <tr>\n",
              "      <th>Widowed</th>\n",
              "      <td>483</td>\n",
              "    </tr>\n",
              "  </tbody>\n",
              "</table>\n",
              "</div><br><label><b>dtype:</b> int64</label>"
            ]
          },
          "metadata": {},
          "execution_count": 5
        }
      ],
      "source": [
        "df['MARITAL_STATUS'].value_counts()"
      ]
    },
    {
      "cell_type": "code",
      "execution_count": 6,
      "id": "f91c3090-1c36-4213-9474-1379943baa7f",
      "metadata": {
        "colab": {
          "base_uri": "https://localhost:8080/",
          "height": 424
        },
        "id": "f91c3090-1c36-4213-9474-1379943baa7f",
        "outputId": "2a8c2079-f141-4277-b028-0b86bb945806"
      },
      "outputs": [
        {
          "output_type": "execute_result",
          "data": {
            "text/plain": [
              "NUMBER_OF_CHILDREN\n",
              "0 children present    20049\n",
              "1 child present        7522\n",
              "2                      6926\n",
              "3                      2968\n",
              "4                      1030\n",
              "5                       321\n",
              "6                       108\n",
              "7                        42\n",
              "8                        11\n",
              "9+                        6\n",
              "Name: count, dtype: int64"
            ],
            "text/html": [
              "<div>\n",
              "<style scoped>\n",
              "    .dataframe tbody tr th:only-of-type {\n",
              "        vertical-align: middle;\n",
              "    }\n",
              "\n",
              "    .dataframe tbody tr th {\n",
              "        vertical-align: top;\n",
              "    }\n",
              "\n",
              "    .dataframe thead th {\n",
              "        text-align: right;\n",
              "    }\n",
              "</style>\n",
              "<table border=\"1\" class=\"dataframe\">\n",
              "  <thead>\n",
              "    <tr style=\"text-align: right;\">\n",
              "      <th></th>\n",
              "      <th>count</th>\n",
              "    </tr>\n",
              "    <tr>\n",
              "      <th>NUMBER_OF_CHILDREN</th>\n",
              "      <th></th>\n",
              "    </tr>\n",
              "  </thead>\n",
              "  <tbody>\n",
              "    <tr>\n",
              "      <th>0 children present</th>\n",
              "      <td>20049</td>\n",
              "    </tr>\n",
              "    <tr>\n",
              "      <th>1 child present</th>\n",
              "      <td>7522</td>\n",
              "    </tr>\n",
              "    <tr>\n",
              "      <th>2</th>\n",
              "      <td>6926</td>\n",
              "    </tr>\n",
              "    <tr>\n",
              "      <th>3</th>\n",
              "      <td>2968</td>\n",
              "    </tr>\n",
              "    <tr>\n",
              "      <th>4</th>\n",
              "      <td>1030</td>\n",
              "    </tr>\n",
              "    <tr>\n",
              "      <th>5</th>\n",
              "      <td>321</td>\n",
              "    </tr>\n",
              "    <tr>\n",
              "      <th>6</th>\n",
              "      <td>108</td>\n",
              "    </tr>\n",
              "    <tr>\n",
              "      <th>7</th>\n",
              "      <td>42</td>\n",
              "    </tr>\n",
              "    <tr>\n",
              "      <th>8</th>\n",
              "      <td>11</td>\n",
              "    </tr>\n",
              "    <tr>\n",
              "      <th>9+</th>\n",
              "      <td>6</td>\n",
              "    </tr>\n",
              "  </tbody>\n",
              "</table>\n",
              "</div><br><label><b>dtype:</b> int64</label>"
            ]
          },
          "metadata": {},
          "execution_count": 6
        }
      ],
      "source": [
        "df['NUMBER_OF_CHILDREN'].value_counts()"
      ]
    },
    {
      "cell_type": "code",
      "execution_count": 7,
      "id": "15003cce-3c39-4dc4-a46b-598e5fe1e929",
      "metadata": {
        "id": "15003cce-3c39-4dc4-a46b-598e5fe1e929"
      },
      "outputs": [],
      "source": [
        "# convert the number of children strings to numbers\n",
        "children_map = {'0 children present': 0,\n",
        "                '1 child present': 1,\n",
        "                '2': 2,\n",
        "                '3': 3,\n",
        "                '4': 4,\n",
        "                '5': 5,\n",
        "                '6': 6,\n",
        "                '7': 7,\n",
        "                '8': 8,\n",
        "                '9+': 9\n",
        "               }\n",
        "df['number_of_children_int'] = df['NUMBER_OF_CHILDREN'].map(children_map)"
      ]
    },
    {
      "cell_type": "code",
      "execution_count": 8,
      "id": "9439542f-f53c-45e0-958d-2b74fe7b0da1",
      "metadata": {
        "colab": {
          "base_uri": "https://localhost:8080/",
          "height": 424
        },
        "id": "9439542f-f53c-45e0-958d-2b74fe7b0da1",
        "outputId": "1893bd9a-81db-4357-ad99-f6060e9c82f7"
      },
      "outputs": [
        {
          "output_type": "execute_result",
          "data": {
            "text/plain": [
              "number_of_children_int\n",
              "0.0    20049\n",
              "1.0     7522\n",
              "2.0     6926\n",
              "3.0     2968\n",
              "4.0     1030\n",
              "5.0      321\n",
              "6.0      108\n",
              "7.0       42\n",
              "8.0       11\n",
              "9.0        6\n",
              "Name: count, dtype: int64"
            ],
            "text/html": [
              "<div>\n",
              "<style scoped>\n",
              "    .dataframe tbody tr th:only-of-type {\n",
              "        vertical-align: middle;\n",
              "    }\n",
              "\n",
              "    .dataframe tbody tr th {\n",
              "        vertical-align: top;\n",
              "    }\n",
              "\n",
              "    .dataframe thead th {\n",
              "        text-align: right;\n",
              "    }\n",
              "</style>\n",
              "<table border=\"1\" class=\"dataframe\">\n",
              "  <thead>\n",
              "    <tr style=\"text-align: right;\">\n",
              "      <th></th>\n",
              "      <th>count</th>\n",
              "    </tr>\n",
              "    <tr>\n",
              "      <th>number_of_children_int</th>\n",
              "      <th></th>\n",
              "    </tr>\n",
              "  </thead>\n",
              "  <tbody>\n",
              "    <tr>\n",
              "      <th>0.0</th>\n",
              "      <td>20049</td>\n",
              "    </tr>\n",
              "    <tr>\n",
              "      <th>1.0</th>\n",
              "      <td>7522</td>\n",
              "    </tr>\n",
              "    <tr>\n",
              "      <th>2.0</th>\n",
              "      <td>6926</td>\n",
              "    </tr>\n",
              "    <tr>\n",
              "      <th>3.0</th>\n",
              "      <td>2968</td>\n",
              "    </tr>\n",
              "    <tr>\n",
              "      <th>4.0</th>\n",
              "      <td>1030</td>\n",
              "    </tr>\n",
              "    <tr>\n",
              "      <th>5.0</th>\n",
              "      <td>321</td>\n",
              "    </tr>\n",
              "    <tr>\n",
              "      <th>6.0</th>\n",
              "      <td>108</td>\n",
              "    </tr>\n",
              "    <tr>\n",
              "      <th>7.0</th>\n",
              "      <td>42</td>\n",
              "    </tr>\n",
              "    <tr>\n",
              "      <th>8.0</th>\n",
              "      <td>11</td>\n",
              "    </tr>\n",
              "    <tr>\n",
              "      <th>9.0</th>\n",
              "      <td>6</td>\n",
              "    </tr>\n",
              "  </tbody>\n",
              "</table>\n",
              "</div><br><label><b>dtype:</b> int64</label>"
            ]
          },
          "metadata": {},
          "execution_count": 8
        }
      ],
      "source": [
        "df['number_of_children_int'].value_counts()"
      ]
    },
    {
      "cell_type": "code",
      "execution_count": 9,
      "id": "1d1f334f-1853-4fd1-84d8-b72f3ca7d52f",
      "metadata": {
        "scrolled": true,
        "colab": {
          "base_uri": "https://localhost:8080/",
          "height": 235
        },
        "id": "1d1f334f-1853-4fd1-84d8-b72f3ca7d52f",
        "outputId": "8be6e971-145e-4353-de86-1cc533775596"
      },
      "outputs": [
        {
          "output_type": "execute_result",
          "data": {
            "text/plain": [
              "                                     total_children\n",
              "MARITAL_STATUS                                     \n",
              "Married                                     26017.0\n",
              "Never married or under 15 years old          5738.0\n",
              "Divorced                                     3843.0\n",
              "Separated                                     992.0\n",
              "Widowed                                       497.0"
            ],
            "text/html": [
              "\n",
              "  <div id=\"df-1ad9efa0-ac84-4777-b5fb-72761cbdf74c\" class=\"colab-df-container\">\n",
              "    <div>\n",
              "<style scoped>\n",
              "    .dataframe tbody tr th:only-of-type {\n",
              "        vertical-align: middle;\n",
              "    }\n",
              "\n",
              "    .dataframe tbody tr th {\n",
              "        vertical-align: top;\n",
              "    }\n",
              "\n",
              "    .dataframe thead th {\n",
              "        text-align: right;\n",
              "    }\n",
              "</style>\n",
              "<table border=\"1\" class=\"dataframe\">\n",
              "  <thead>\n",
              "    <tr style=\"text-align: right;\">\n",
              "      <th></th>\n",
              "      <th>total_children</th>\n",
              "    </tr>\n",
              "    <tr>\n",
              "      <th>MARITAL_STATUS</th>\n",
              "      <th></th>\n",
              "    </tr>\n",
              "  </thead>\n",
              "  <tbody>\n",
              "    <tr>\n",
              "      <th>Married</th>\n",
              "      <td>26017.0</td>\n",
              "    </tr>\n",
              "    <tr>\n",
              "      <th>Never married or under 15 years old</th>\n",
              "      <td>5738.0</td>\n",
              "    </tr>\n",
              "    <tr>\n",
              "      <th>Divorced</th>\n",
              "      <td>3843.0</td>\n",
              "    </tr>\n",
              "    <tr>\n",
              "      <th>Separated</th>\n",
              "      <td>992.0</td>\n",
              "    </tr>\n",
              "    <tr>\n",
              "      <th>Widowed</th>\n",
              "      <td>497.0</td>\n",
              "    </tr>\n",
              "  </tbody>\n",
              "</table>\n",
              "</div>\n",
              "    <div class=\"colab-df-buttons\">\n",
              "\n",
              "  <div class=\"colab-df-container\">\n",
              "    <button class=\"colab-df-convert\" onclick=\"convertToInteractive('df-1ad9efa0-ac84-4777-b5fb-72761cbdf74c')\"\n",
              "            title=\"Convert this dataframe to an interactive table.\"\n",
              "            style=\"display:none;\">\n",
              "\n",
              "  <svg xmlns=\"http://www.w3.org/2000/svg\" height=\"24px\" viewBox=\"0 -960 960 960\">\n",
              "    <path d=\"M120-120v-720h720v720H120Zm60-500h600v-160H180v160Zm220 220h160v-160H400v160Zm0 220h160v-160H400v160ZM180-400h160v-160H180v160Zm440 0h160v-160H620v160ZM180-180h160v-160H180v160Zm440 0h160v-160H620v160Z\"/>\n",
              "  </svg>\n",
              "    </button>\n",
              "\n",
              "  <style>\n",
              "    .colab-df-container {\n",
              "      display:flex;\n",
              "      gap: 12px;\n",
              "    }\n",
              "\n",
              "    .colab-df-convert {\n",
              "      background-color: #E8F0FE;\n",
              "      border: none;\n",
              "      border-radius: 50%;\n",
              "      cursor: pointer;\n",
              "      display: none;\n",
              "      fill: #1967D2;\n",
              "      height: 32px;\n",
              "      padding: 0 0 0 0;\n",
              "      width: 32px;\n",
              "    }\n",
              "\n",
              "    .colab-df-convert:hover {\n",
              "      background-color: #E2EBFA;\n",
              "      box-shadow: 0px 1px 2px rgba(60, 64, 67, 0.3), 0px 1px 3px 1px rgba(60, 64, 67, 0.15);\n",
              "      fill: #174EA6;\n",
              "    }\n",
              "\n",
              "    .colab-df-buttons div {\n",
              "      margin-bottom: 4px;\n",
              "    }\n",
              "\n",
              "    [theme=dark] .colab-df-convert {\n",
              "      background-color: #3B4455;\n",
              "      fill: #D2E3FC;\n",
              "    }\n",
              "\n",
              "    [theme=dark] .colab-df-convert:hover {\n",
              "      background-color: #434B5C;\n",
              "      box-shadow: 0px 1px 3px 1px rgba(0, 0, 0, 0.15);\n",
              "      filter: drop-shadow(0px 1px 2px rgba(0, 0, 0, 0.3));\n",
              "      fill: #FFFFFF;\n",
              "    }\n",
              "  </style>\n",
              "\n",
              "    <script>\n",
              "      const buttonEl =\n",
              "        document.querySelector('#df-1ad9efa0-ac84-4777-b5fb-72761cbdf74c button.colab-df-convert');\n",
              "      buttonEl.style.display =\n",
              "        google.colab.kernel.accessAllowed ? 'block' : 'none';\n",
              "\n",
              "      async function convertToInteractive(key) {\n",
              "        const element = document.querySelector('#df-1ad9efa0-ac84-4777-b5fb-72761cbdf74c');\n",
              "        const dataTable =\n",
              "          await google.colab.kernel.invokeFunction('convertToInteractive',\n",
              "                                                    [key], {});\n",
              "        if (!dataTable) return;\n",
              "\n",
              "        const docLinkHtml = 'Like what you see? Visit the ' +\n",
              "          '<a target=\"_blank\" href=https://colab.research.google.com/notebooks/data_table.ipynb>data table notebook</a>'\n",
              "          + ' to learn more about interactive tables.';\n",
              "        element.innerHTML = '';\n",
              "        dataTable['output_type'] = 'display_data';\n",
              "        await google.colab.output.renderOutput(dataTable, element);\n",
              "        const docLink = document.createElement('div');\n",
              "        docLink.innerHTML = docLinkHtml;\n",
              "        element.appendChild(docLink);\n",
              "      }\n",
              "    </script>\n",
              "  </div>\n",
              "\n",
              "\n",
              "    <div id=\"df-97ca2fa8-6992-4f90-a2a5-dbad4c0182d2\">\n",
              "      <button class=\"colab-df-quickchart\" onclick=\"quickchart('df-97ca2fa8-6992-4f90-a2a5-dbad4c0182d2')\"\n",
              "                title=\"Suggest charts\"\n",
              "                style=\"display:none;\">\n",
              "\n",
              "<svg xmlns=\"http://www.w3.org/2000/svg\" height=\"24px\"viewBox=\"0 0 24 24\"\n",
              "     width=\"24px\">\n",
              "    <g>\n",
              "        <path d=\"M19 3H5c-1.1 0-2 .9-2 2v14c0 1.1.9 2 2 2h14c1.1 0 2-.9 2-2V5c0-1.1-.9-2-2-2zM9 17H7v-7h2v7zm4 0h-2V7h2v10zm4 0h-2v-4h2v4z\"/>\n",
              "    </g>\n",
              "</svg>\n",
              "      </button>\n",
              "\n",
              "<style>\n",
              "  .colab-df-quickchart {\n",
              "      --bg-color: #E8F0FE;\n",
              "      --fill-color: #1967D2;\n",
              "      --hover-bg-color: #E2EBFA;\n",
              "      --hover-fill-color: #174EA6;\n",
              "      --disabled-fill-color: #AAA;\n",
              "      --disabled-bg-color: #DDD;\n",
              "  }\n",
              "\n",
              "  [theme=dark] .colab-df-quickchart {\n",
              "      --bg-color: #3B4455;\n",
              "      --fill-color: #D2E3FC;\n",
              "      --hover-bg-color: #434B5C;\n",
              "      --hover-fill-color: #FFFFFF;\n",
              "      --disabled-bg-color: #3B4455;\n",
              "      --disabled-fill-color: #666;\n",
              "  }\n",
              "\n",
              "  .colab-df-quickchart {\n",
              "    background-color: var(--bg-color);\n",
              "    border: none;\n",
              "    border-radius: 50%;\n",
              "    cursor: pointer;\n",
              "    display: none;\n",
              "    fill: var(--fill-color);\n",
              "    height: 32px;\n",
              "    padding: 0;\n",
              "    width: 32px;\n",
              "  }\n",
              "\n",
              "  .colab-df-quickchart:hover {\n",
              "    background-color: var(--hover-bg-color);\n",
              "    box-shadow: 0 1px 2px rgba(60, 64, 67, 0.3), 0 1px 3px 1px rgba(60, 64, 67, 0.15);\n",
              "    fill: var(--button-hover-fill-color);\n",
              "  }\n",
              "\n",
              "  .colab-df-quickchart-complete:disabled,\n",
              "  .colab-df-quickchart-complete:disabled:hover {\n",
              "    background-color: var(--disabled-bg-color);\n",
              "    fill: var(--disabled-fill-color);\n",
              "    box-shadow: none;\n",
              "  }\n",
              "\n",
              "  .colab-df-spinner {\n",
              "    border: 2px solid var(--fill-color);\n",
              "    border-color: transparent;\n",
              "    border-bottom-color: var(--fill-color);\n",
              "    animation:\n",
              "      spin 1s steps(1) infinite;\n",
              "  }\n",
              "\n",
              "  @keyframes spin {\n",
              "    0% {\n",
              "      border-color: transparent;\n",
              "      border-bottom-color: var(--fill-color);\n",
              "      border-left-color: var(--fill-color);\n",
              "    }\n",
              "    20% {\n",
              "      border-color: transparent;\n",
              "      border-left-color: var(--fill-color);\n",
              "      border-top-color: var(--fill-color);\n",
              "    }\n",
              "    30% {\n",
              "      border-color: transparent;\n",
              "      border-left-color: var(--fill-color);\n",
              "      border-top-color: var(--fill-color);\n",
              "      border-right-color: var(--fill-color);\n",
              "    }\n",
              "    40% {\n",
              "      border-color: transparent;\n",
              "      border-right-color: var(--fill-color);\n",
              "      border-top-color: var(--fill-color);\n",
              "    }\n",
              "    60% {\n",
              "      border-color: transparent;\n",
              "      border-right-color: var(--fill-color);\n",
              "    }\n",
              "    80% {\n",
              "      border-color: transparent;\n",
              "      border-right-color: var(--fill-color);\n",
              "      border-bottom-color: var(--fill-color);\n",
              "    }\n",
              "    90% {\n",
              "      border-color: transparent;\n",
              "      border-bottom-color: var(--fill-color);\n",
              "    }\n",
              "  }\n",
              "</style>\n",
              "\n",
              "      <script>\n",
              "        async function quickchart(key) {\n",
              "          const quickchartButtonEl =\n",
              "            document.querySelector('#' + key + ' button');\n",
              "          quickchartButtonEl.disabled = true;  // To prevent multiple clicks.\n",
              "          quickchartButtonEl.classList.add('colab-df-spinner');\n",
              "          try {\n",
              "            const charts = await google.colab.kernel.invokeFunction(\n",
              "                'suggestCharts', [key], {});\n",
              "          } catch (error) {\n",
              "            console.error('Error during call to suggestCharts:', error);\n",
              "          }\n",
              "          quickchartButtonEl.classList.remove('colab-df-spinner');\n",
              "          quickchartButtonEl.classList.add('colab-df-quickchart-complete');\n",
              "        }\n",
              "        (() => {\n",
              "          let quickchartButtonEl =\n",
              "            document.querySelector('#df-97ca2fa8-6992-4f90-a2a5-dbad4c0182d2 button');\n",
              "          quickchartButtonEl.style.display =\n",
              "            google.colab.kernel.accessAllowed ? 'block' : 'none';\n",
              "        })();\n",
              "      </script>\n",
              "    </div>\n",
              "\n",
              "  <div id=\"id_5a09a612-0e59-4fdb-8796-23a28efae897\">\n",
              "    <style>\n",
              "      .colab-df-generate {\n",
              "        background-color: #E8F0FE;\n",
              "        border: none;\n",
              "        border-radius: 50%;\n",
              "        cursor: pointer;\n",
              "        display: none;\n",
              "        fill: #1967D2;\n",
              "        height: 32px;\n",
              "        padding: 0 0 0 0;\n",
              "        width: 32px;\n",
              "      }\n",
              "\n",
              "      .colab-df-generate:hover {\n",
              "        background-color: #E2EBFA;\n",
              "        box-shadow: 0px 1px 2px rgba(60, 64, 67, 0.3), 0px 1px 3px 1px rgba(60, 64, 67, 0.15);\n",
              "        fill: #174EA6;\n",
              "      }\n",
              "\n",
              "      [theme=dark] .colab-df-generate {\n",
              "        background-color: #3B4455;\n",
              "        fill: #D2E3FC;\n",
              "      }\n",
              "\n",
              "      [theme=dark] .colab-df-generate:hover {\n",
              "        background-color: #434B5C;\n",
              "        box-shadow: 0px 1px 3px 1px rgba(0, 0, 0, 0.15);\n",
              "        filter: drop-shadow(0px 1px 2px rgba(0, 0, 0, 0.3));\n",
              "        fill: #FFFFFF;\n",
              "      }\n",
              "    </style>\n",
              "    <button class=\"colab-df-generate\" onclick=\"generateWithVariable('children_by_marital_status')\"\n",
              "            title=\"Generate code using this dataframe.\"\n",
              "            style=\"display:none;\">\n",
              "\n",
              "  <svg xmlns=\"http://www.w3.org/2000/svg\" height=\"24px\"viewBox=\"0 0 24 24\"\n",
              "       width=\"24px\">\n",
              "    <path d=\"M7,19H8.4L18.45,9,17,7.55,7,17.6ZM5,21V16.75L18.45,3.32a2,2,0,0,1,2.83,0l1.4,1.43a1.91,1.91,0,0,1,.58,1.4,1.91,1.91,0,0,1-.58,1.4L9.25,21ZM18.45,9,17,7.55Zm-12,3A5.31,5.31,0,0,0,4.9,8.1,5.31,5.31,0,0,0,1,6.5,5.31,5.31,0,0,0,4.9,4.9,5.31,5.31,0,0,0,6.5,1,5.31,5.31,0,0,0,8.1,4.9,5.31,5.31,0,0,0,12,6.5,5.46,5.46,0,0,0,6.5,12Z\"/>\n",
              "  </svg>\n",
              "    </button>\n",
              "    <script>\n",
              "      (() => {\n",
              "      const buttonEl =\n",
              "        document.querySelector('#id_5a09a612-0e59-4fdb-8796-23a28efae897 button.colab-df-generate');\n",
              "      buttonEl.style.display =\n",
              "        google.colab.kernel.accessAllowed ? 'block' : 'none';\n",
              "\n",
              "      buttonEl.onclick = () => {\n",
              "        google.colab.notebook.generateWithVariable('children_by_marital_status');\n",
              "      }\n",
              "      })();\n",
              "    </script>\n",
              "  </div>\n",
              "\n",
              "    </div>\n",
              "  </div>\n"
            ],
            "application/vnd.google.colaboratory.intrinsic+json": {
              "type": "dataframe",
              "variable_name": "children_by_marital_status",
              "summary": "{\n  \"name\": \"children_by_marital_status\",\n  \"rows\": 5,\n  \"fields\": [\n    {\n      \"column\": \"MARITAL_STATUS\",\n      \"properties\": {\n        \"dtype\": \"string\",\n        \"num_unique_values\": 5,\n        \"samples\": [\n          \"Never married or under 15 years old\",\n          \"Widowed\",\n          \"Divorced\"\n        ],\n        \"semantic_type\": \"\",\n        \"description\": \"\"\n      }\n    },\n    {\n      \"column\": \"total_children\",\n      \"properties\": {\n        \"dtype\": \"number\",\n        \"std\": 10615.078205081674,\n        \"min\": 497.0,\n        \"max\": 26017.0,\n        \"num_unique_values\": 5,\n        \"samples\": [\n          5738.0,\n          497.0,\n          3843.0\n        ],\n        \"semantic_type\": \"\",\n        \"description\": \"\"\n      }\n    }\n  ]\n}"
            }
          },
          "metadata": {},
          "execution_count": 9
        }
      ],
      "source": [
        "children_by_marital_status = df.groupby('MARITAL_STATUS').agg(total_children=('number_of_children_int', 'sum')).sort_values('total_children', ascending=False)\n",
        "children_by_marital_status"
      ]
    },
    {
      "cell_type": "code",
      "execution_count": 10,
      "id": "cf9e3dea-575d-4455-893e-64fbeb56dac0",
      "metadata": {
        "colab": {
          "base_uri": "https://localhost:8080/",
          "height": 712
        },
        "id": "cf9e3dea-575d-4455-893e-64fbeb56dac0",
        "outputId": "604ab0bd-53c4-4833-d130-c967c82d92a9"
      },
      "outputs": [
        {
          "output_type": "display_data",
          "data": {
            "text/plain": [
              "<Figure size 640x480 with 1 Axes>"
            ],
            "image/png": "[encoded data removed]"
          },
          "metadata": {}
        }
      ],
      "source": [
        "children_by_marital_status.plot(kind='bar')\n",
        "plt.xlabel('Marital Status')\n",
        "plt.ylabel('Total Children')\n",
        "plt.title('Total Children by Marital Status')\n",
        "plt.show()"
      ]
    },
    {
      "cell_type": "code",
      "execution_count": 11,
      "id": "3b3b1c6a-004e-46f6-b432-7cc890585067",
      "metadata": {
        "colab": {
          "base_uri": "https://localhost:8080/",
          "height": 424
        },
        "id": "3b3b1c6a-004e-46f6-b432-7cc890585067",
        "outputId": "d3619bcb-8506-4780-9f9c-b170e72b3984"
      },
      "outputs": [
        {
          "output_type": "execute_result",
          "data": {
            "text/plain": [
              "NUMBER_OF_CHILDREN\n",
              "0 children present    20049\n",
              "1 child present        7522\n",
              "2                      6926\n",
              "3                      2968\n",
              "4                      1030\n",
              "5                       321\n",
              "6                       108\n",
              "7                        42\n",
              "8                        11\n",
              "9+                        6\n",
              "Name: count, dtype: int64"
            ],
            "text/html": [
              "<div>\n",
              "<style scoped>\n",
              "    .dataframe tbody tr th:only-of-type {\n",
              "        vertical-align: middle;\n",
              "    }\n",
              "\n",
              "    .dataframe tbody tr th {\n",
              "        vertical-align: top;\n",
              "    }\n",
              "\n",
              "    .dataframe thead th {\n",
              "        text-align: right;\n",
              "    }\n",
              "</style>\n",
              "<table border=\"1\" class=\"dataframe\">\n",
              "  <thead>\n",
              "    <tr style=\"text-align: right;\">\n",
              "      <th></th>\n",
              "      <th>count</th>\n",
              "    </tr>\n",
              "    <tr>\n",
              "      <th>NUMBER_OF_CHILDREN</th>\n",
              "      <th></th>\n",
              "    </tr>\n",
              "  </thead>\n",
              "  <tbody>\n",
              "    <tr>\n",
              "      <th>0 children present</th>\n",
              "      <td>20049</td>\n",
              "    </tr>\n",
              "    <tr>\n",
              "      <th>1 child present</th>\n",
              "      <td>7522</td>\n",
              "    </tr>\n",
              "    <tr>\n",
              "      <th>2</th>\n",
              "      <td>6926</td>\n",
              "    </tr>\n",
              "    <tr>\n",
              "      <th>3</th>\n",
              "      <td>2968</td>\n",
              "    </tr>\n",
              "    <tr>\n",
              "      <th>4</th>\n",
              "      <td>1030</td>\n",
              "    </tr>\n",
              "    <tr>\n",
              "      <th>5</th>\n",
              "      <td>321</td>\n",
              "    </tr>\n",
              "    <tr>\n",
              "      <th>6</th>\n",
              "      <td>108</td>\n",
              "    </tr>\n",
              "    <tr>\n",
              "      <th>7</th>\n",
              "      <td>42</td>\n",
              "    </tr>\n",
              "    <tr>\n",
              "      <th>8</th>\n",
              "      <td>11</td>\n",
              "    </tr>\n",
              "    <tr>\n",
              "      <th>9+</th>\n",
              "      <td>6</td>\n",
              "    </tr>\n",
              "  </tbody>\n",
              "</table>\n",
              "</div><br><label><b>dtype:</b> int64</label>"
            ]
          },
          "metadata": {},
          "execution_count": 11
        }
      ],
      "source": [
        "children_count = df['NUMBER_OF_CHILDREN'].value_counts()\n",
        "children_count"
      ]
    },
    {
      "cell_type": "code",
      "execution_count": 12,
      "id": "9dcbfc33-b861-44d9-8751-90169252c1ba",
      "metadata": {
        "colab": {
          "base_uri": "https://localhost:8080/"
        },
        "id": "9dcbfc33-b861-44d9-8751-90169252c1ba",
        "outputId": "96ddd375-2dc0-4214-807d-d48b7c760e82"
      },
      "outputs": [
        {
          "output_type": "execute_result",
          "data": {
            "text/plain": [
              "np.int64(1518)"
            ]
          },
          "metadata": {},
          "execution_count": 12
        }
      ],
      "source": [
        "four_plus = children_count.iloc[4:].sum()\n",
        "four_plus"
      ]
    },
    {
      "cell_type": "code",
      "execution_count": 13,
      "id": "27f9bc5f-08c2-4a5c-8e73-eb0a5e1079d7",
      "metadata": {
        "colab": {
          "base_uri": "https://localhost:8080/"
        },
        "id": "27f9bc5f-08c2-4a5c-8e73-eb0a5e1079d7",
        "outputId": "8bcb0af4-ec2b-41ed-dfea-849c47ffb2ad"
      },
      "outputs": [
        {
          "output_type": "stream",
          "name": "stdout",
          "text": [
            "NUMBER_OF_CHILDREN\n",
            "0 children present    20049\n",
            "1 child present        7522\n",
            "2                      6926\n",
            "3                      2968\n",
            "Name: count, dtype: int64\n",
            "NUMBER_OF_CHILDREN\n",
            "0 children present    20049\n",
            "1 child present        7522\n",
            "2                      6926\n",
            "3                      2968\n",
            "4+                     1518\n",
            "Name: count, dtype: int64\n"
          ]
        }
      ],
      "source": [
        "children_pie = children_count.iloc[:4]\n",
        "print(children_pie)\n",
        "children_pie[\"4+\"] = four_plus\n",
        "print(children_pie)"
      ]
    },
    {
      "cell_type": "code",
      "execution_count": 14,
      "id": "5dfbc8b4-3281-4006-b535-22ada05f085a",
      "metadata": {
        "colab": {
          "base_uri": "https://localhost:8080/",
          "height": 434
        },
        "id": "5dfbc8b4-3281-4006-b535-22ada05f085a",
        "outputId": "6e36ec61-65e3-4352-8cf6-d23c08cbb912"
      },
      "outputs": [
        {
          "output_type": "display_data",
          "data": {
            "text/plain": [
              "<Figure size 640x480 with 1 Axes>"
            ],
            "image/png": "[encoded data removed]"
          },
          "metadata": {}
        }
      ],
      "source": [
        "plt.pie(children_pie.values,\n",
        "        labels=children_pie.index,\n",
        "        autopct='%1.1f%%', startangle=270)\n",
        "plt.title('Child distribution per woman ')\n",
        "plt.axis('equal')  # Ensures pie is drawn as a circle\n",
        "plt.show()"
      ]
    },
    {
      "cell_type": "code",
      "execution_count": 15,
      "id": "585a91d8-373f-4821-99dc-e082e787abc6",
      "metadata": {
        "scrolled": true,
        "colab": {
          "base_uri": "https://localhost:8080/",
          "height": 858
        },
        "id": "585a91d8-373f-4821-99dc-e082e787abc6",
        "outputId": "d14af54e-6f87-4e2b-9b0d-103bc72d6701"
      },
      "outputs": [
        {
          "output_type": "execute_result",
          "data": {
            "text/plain": [
              "EDUCATION\n",
              "Bachelor's degree                                 8036\n",
              "Regular high school diploma                       7505\n",
              "1 or more years of college credit, no degree      5611\n",
              "Associate's degree                                3678\n",
              "Master's degree                                   3661\n",
              "Some college, but less than 1 year                2743\n",
              "Grade 11                                          1577\n",
              "GED or alternative credential                     1424\n",
              "Grade 10                                          1109\n",
              "12th grade - no diploma                            779\n",
              "Grade 9                                            636\n",
              "Professional degree beyond a bachelor's degree     620\n",
              "No schooling completed                             541\n",
              "Doctorate degree                                   509\n",
              "Grade 8                                            203\n",
              "Grade 6                                            157\n",
              "Grade 7                                             73\n",
              "Grade 5                                             33\n",
              "Grade 4                                             24\n",
              "Grade 3                                             23\n",
              "Nursery school, preschool                           13\n",
              "Kindergarten                                        13\n",
              "Grade 1                                              8\n",
              "Grade 2                                              7\n",
              "Name: count, dtype: int64"
            ],
            "text/html": [
              "<div>\n",
              "<style scoped>\n",
              "    .dataframe tbody tr th:only-of-type {\n",
              "        vertical-align: middle;\n",
              "    }\n",
              "\n",
              "    .dataframe tbody tr th {\n",
              "        vertical-align: top;\n",
              "    }\n",
              "\n",
              "    .dataframe thead th {\n",
              "        text-align: right;\n",
              "    }\n",
              "</style>\n",
              "<table border=\"1\" class=\"dataframe\">\n",
              "  <thead>\n",
              "    <tr style=\"text-align: right;\">\n",
              "      <th></th>\n",
              "      <th>count</th>\n",
              "    </tr>\n",
              "    <tr>\n",
              "      <th>EDUCATION</th>\n",
              "      <th></th>\n",
              "    </tr>\n",
              "  </thead>\n",
              "  <tbody>\n",
              "    <tr>\n",
              "      <th>Bachelor's degree</th>\n",
              "      <td>8036</td>\n",
              "    </tr>\n",
              "    <tr>\n",
              "      <th>Regular high school diploma</th>\n",
              "      <td>7505</td>\n",
              "    </tr>\n",
              "    <tr>\n",
              "      <th>1 or more years of college credit, no degree</th>\n",
              "      <td>5611</td>\n",
              "    </tr>\n",
              "    <tr>\n",
              "      <th>Associate's degree</th>\n",
              "      <td>3678</td>\n",
              "    </tr>\n",
              "    <tr>\n",
              "      <th>Master's degree</th>\n",
              "      <td>3661</td>\n",
              "    </tr>\n",
              "    <tr>\n",
              "      <th>Some college, but less than 1 year</th>\n",
              "      <td>2743</td>\n",
              "    </tr>\n",
              "    <tr>\n",
              "      <th>Grade 11</th>\n",
              "      <td>1577</td>\n",
              "    </tr>\n",
              "    <tr>\n",
              "      <th>GED or alternative credential</th>\n",
              "      <td>1424</td>\n",
              "    </tr>\n",
              "    <tr>\n",
              "      <th>Grade 10</th>\n",
              "      <td>1109</td>\n",
              "    </tr>\n",
              "    <tr>\n",
              "      <th>12th grade - no diploma</th>\n",
              "      <td>779</td>\n",
              "    </tr>\n",
              "    <tr>\n",
              "      <th>Grade 9</th>\n",
              "      <td>636</td>\n",
              "    </tr>\n",
              "    <tr>\n",
              "      <th>Professional degree beyond a bachelor's degree</th>\n",
              "      <td>620</td>\n",
              "    </tr>\n",
              "    <tr>\n",
              "      <th>No schooling completed</th>\n",
              "      <td>541</td>\n",
              "    </tr>\n",
              "    <tr>\n",
              "      <th>Doctorate degree</th>\n",
              "      <td>509</td>\n",
              "    </tr>\n",
              "    <tr>\n",
              "      <th>Grade 8</th>\n",
              "      <td>203</td>\n",
              "    </tr>\n",
              "    <tr>\n",
              "      <th>Grade 6</th>\n",
              "      <td>157</td>\n",
              "    </tr>\n",
              "    <tr>\n",
              "      <th>Grade 7</th>\n",
              "      <td>73</td>\n",
              "    </tr>\n",
              "    <tr>\n",
              "      <th>Grade 5</th>\n",
              "      <td>33</td>\n",
              "    </tr>\n",
              "    <tr>\n",
              "      <th>Grade 4</th>\n",
              "      <td>24</td>\n",
              "    </tr>\n",
              "    <tr>\n",
              "      <th>Grade 3</th>\n",
              "      <td>23</td>\n",
              "    </tr>\n",
              "    <tr>\n",
              "      <th>Nursery school, preschool</th>\n",
              "      <td>13</td>\n",
              "    </tr>\n",
              "    <tr>\n",
              "      <th>Kindergarten</th>\n",
              "      <td>13</td>\n",
              "    </tr>\n",
              "    <tr>\n",
              "      <th>Grade 1</th>\n",
              "      <td>8</td>\n",
              "    </tr>\n",
              "    <tr>\n",
              "      <th>Grade 2</th>\n",
              "      <td>7</td>\n",
              "    </tr>\n",
              "  </tbody>\n",
              "</table>\n",
              "</div><br><label><b>dtype:</b> int64</label>"
            ]
          },
          "metadata": {},
          "execution_count": 15
        }
      ],
      "source": [
        "df['EDUCATION'].value_counts()"
      ]
    },
    {
      "cell_type": "code",
      "execution_count": 16,
      "id": "92e45910-ca5f-497e-907f-dbecdb50bd7b",
      "metadata": {
        "id": "92e45910-ca5f-497e-907f-dbecdb50bd7b"
      },
      "outputs": [],
      "source": [
        "# Filter out women with 2+ children\n"
      ]
    },
    {
      "cell_type": "markdown",
      "id": "ecfa12ad-0d06-4195-b5b0-51718991390d",
      "metadata": {
        "id": "ecfa12ad-0d06-4195-b5b0-51718991390d"
      },
      "source": [
        "===========================EDA FINISHED ===================================="
      ]
    },
    {
      "cell_type": "markdown",
      "id": "15a018a5-dd21-4bc2-af90-5e30c06d93a8",
      "metadata": {
        "id": "15a018a5-dd21-4bc2-af90-5e30c06d93a8"
      },
      "source": [
        "# Feature Engineering (X)"
      ]
    },
    {
      "cell_type": "code",
      "execution_count": 17,
      "id": "2a921089-b75a-42a0-8edd-d48447fd90c0",
      "metadata": {
        "id": "2a921089-b75a-42a0-8edd-d48447fd90c0"
      },
      "outputs": [],
      "source": [
        "# 1 = have married before, 0 = have never married\n",
        "df['ever_married'] = (df['MARITAL_STATUS'] != 'Never married or under 15 years old').astype(int)\n",
        "\n",
        "# convert the number of times married into numbers\n",
        "marriage_map = {'N/A (age less than 15 years; never married)': 0,\n",
        "                'One time': 1,\n",
        "                'Two times': 2,\n",
        "                'Three or more times': 3}\n",
        "df['num_times_married'] = df['NUM_TIMES_MARRIED'].map(marriage_map)\n",
        "\n",
        "# calculate years since marriage\n",
        "df['years_since_marriage'] = 2023 - pd.to_numeric(df['YEAR_LAST_MARRIED'], errors='coerce')\n",
        "df['years_since_marriage'] = df['years_since_marriage'].fillna(0)\n",
        "\n",
        "# 1 = moved somewhere last year, 0 = didn't move anywhere\n",
        "df['moved_last_year'] = df['MOBILITY_STATUS'].apply(lambda x: 0 if x=='Yes, same house (nonmovers)' else 1)\n",
        "\n",
        "# calculate number of years of education\n",
        "education_map = {\n",
        "    'No schooling completed': 0, 'Nursery school, preschool': 0, 'Kindergarten': 0,\n",
        "    'Grade 1': 1, 'Grade 2': 2, 'Grade 3': 3, 'Grade 4': 4, 'Grade 5': 5, 'Grade 6': 6, 'Grade 7': 7, 'Grade 8': 8, 'Grade 9': 9, 'Grade 10': 10,\n",
        "    'Grade 11': 11, '12th grade - no diploma': 12, 'Regular high school diploma': 12, 'GED or alternative credential': 12,\n",
        "    'Some college, but less than 1 year': 13, '1 or more years of college credit, no degree': 14,\n",
        "    \"Associate's degree\": 15, \"Bachelor's degree\": 16, \"Master's degree\": 18, \"Professional degree beyond a bachelor's degree\": 19, \"Doctorate degree\": 20 }\n",
        "df['education_years'] = df['EDUCATION'].map(education_map)\n",
        "\n",
        "# 1 = has medical insurance, 0 = no medical insurance\n",
        "df['has_insurance'] = (df['HEALTH_INSURANCE'] == 'With health insurance coverage').astype(int)\n",
        "\n",
        "# 1 = employed of some forms, 0 = not employed\n",
        "employed_group = ['Civilian employed, at work', 'Civilian employed, with a job but not at work', 'Armed forces, at work', 'Armed forces, with a job but not at work' ]\n",
        "df['employed'] = df['EMPLOYMENT_STATUS'].apply(lambda x: 1 if x in employed_group else 0)\n",
        "\n",
        "# 1 = give birth for the past year, 0 = no birth past year\n",
        "df['gave_birth_12mo'] = df['GAVE_BIRTH_12MO'].map(lambda x: 1 if x == 'Yes' else 0)"
      ]
    },
    {
      "cell_type": "markdown",
      "id": "06ea7020-f41f-4ea2-9c62-4703c46db0d6",
      "metadata": {
        "id": "06ea7020-f41f-4ea2-9c62-4703c46db0d6"
      },
      "source": [
        "# Create Target Variable (y = above_2child)"
      ]
    },
    {
      "cell_type": "code",
      "execution_count": 18,
      "id": "821e2e6f-b4f4-41b1-8d07-4c1e10ca260b",
      "metadata": {
        "id": "821e2e6f-b4f4-41b1-8d07-4c1e10ca260b"
      },
      "outputs": [],
      "source": [
        "df['above_2child'] = df['NUMBER_OF_CHILDREN'].map(\n",
        "    lambda x: 0 if x in ['0 children present', '1 child present'] else 1)"
      ]
    },
    {
      "cell_type": "code",
      "execution_count": 19,
      "id": "8052462b-8b29-41fd-b9d5-334b8b5e7064",
      "metadata": {
        "colab": {
          "base_uri": "https://localhost:8080/",
          "height": 176
        },
        "id": "8052462b-8b29-41fd-b9d5-334b8b5e7064",
        "outputId": "70b0f713-afb0-4837-c330-b6d751096484"
      },
      "outputs": [
        {
          "output_type": "execute_result",
          "data": {
            "text/plain": [
              "above_2child\n",
              "0    0.707239\n",
              "1    0.292761\n",
              "Name: proportion, dtype: float64"
            ],
            "text/html": [
              "<div>\n",
              "<style scoped>\n",
              "    .dataframe tbody tr th:only-of-type {\n",
              "        vertical-align: middle;\n",
              "    }\n",
              "\n",
              "    .dataframe tbody tr th {\n",
              "        vertical-align: top;\n",
              "    }\n",
              "\n",
              "    .dataframe thead th {\n",
              "        text-align: right;\n",
              "    }\n",
              "</style>\n",
              "<table border=\"1\" class=\"dataframe\">\n",
              "  <thead>\n",
              "    <tr style=\"text-align: right;\">\n",
              "      <th></th>\n",
              "      <th>proportion</th>\n",
              "    </tr>\n",
              "    <tr>\n",
              "      <th>above_2child</th>\n",
              "      <th></th>\n",
              "    </tr>\n",
              "  </thead>\n",
              "  <tbody>\n",
              "    <tr>\n",
              "      <th>0</th>\n",
              "      <td>0.707239</td>\n",
              "    </tr>\n",
              "    <tr>\n",
              "      <th>1</th>\n",
              "      <td>0.292761</td>\n",
              "    </tr>\n",
              "  </tbody>\n",
              "</table>\n",
              "</div><br><label><b>dtype:</b> float64</label>"
            ]
          },
          "metadata": {},
          "execution_count": 19
        }
      ],
      "source": [
        "df['above_2child'].value_counts(normalize=True)   #30% of the data have over 2 children"
      ]
    },
    {
      "cell_type": "code",
      "execution_count": 20,
      "id": "e09bb821-0bd3-405e-804b-6065d992d238",
      "metadata": {
        "colab": {
          "base_uri": "https://localhost:8080/"
        },
        "id": "e09bb821-0bd3-405e-804b-6065d992d238",
        "outputId": "c9f0eca8-5392-461a-8485-076094fb9912"
      },
      "outputs": [
        {
          "output_type": "execute_result",
          "data": {
            "text/plain": [
              "Index(['YEAR', 'HOUSEHOLD_INCOME', 'CHILDREN_STATUS', 'NUMBER_OF_CHILDREN',\n",
              "       'PERSON_WEIGHT', 'AGE', 'CLASS_OF_WORKER', 'GAVE_BIRTH_12MO',\n",
              "       'MARITAL_STATUS', 'NUM_TIMES_MARRIED', 'YEAR_LAST_MARRIED',\n",
              "       'MOBILITY_STATUS', 'GRADE_LEVEL_ATTENDING', 'EDUCATION', 'SEX',\n",
              "       'WHEN_LAST_WORKED', 'EMPLOYMENT_STATUS', 'HEALTH_INSURANCE',\n",
              "       'INCOME_TOTAL', 'number_of_children_int', 'ever_married',\n",
              "       'num_times_married', 'years_since_marriage', 'moved_last_year',\n",
              "       'education_years', 'has_insurance', 'employed', 'gave_birth_12mo',\n",
              "       'above_2child'],\n",
              "      dtype='object')"
            ]
          },
          "metadata": {},
          "execution_count": 20
        }
      ],
      "source": [
        "df.columns"
      ]
    },
    {
      "cell_type": "markdown",
      "id": "6298c547-4dcb-49eb-bc15-8fb736b232cc",
      "metadata": {
        "id": "6298c547-4dcb-49eb-bc15-8fb736b232cc"
      },
      "source": [
        "# Logistic Regression"
      ]
    },
    {
      "cell_type": "code",
      "execution_count": 21,
      "id": "09522477-c9a7-4342-8622-72026b2886b6",
      "metadata": {
        "id": "09522477-c9a7-4342-8622-72026b2886b6"
      },
      "outputs": [],
      "source": [
        "formula = 'above_2child ~ 0 + PERSON_WEIGHT + AGE + ever_married + num_times_married + years_since_marriage' + \\\n",
        "          ' + moved_last_year + education_years + has_insurance + employed + HOUSEHOLD_INCOME + gave_birth_12mo'"
      ]
    },
    {
      "cell_type": "code",
      "execution_count": 22,
      "id": "7ec4fd91-0962-47af-8518-bf97bd5ba335",
      "metadata": {
        "colab": {
          "base_uri": "https://localhost:8080/"
        },
        "id": "7ec4fd91-0962-47af-8518-bf97bd5ba335",
        "outputId": "8847b942-056f-42ce-c1f3-bd023a25dbe0"
      },
      "outputs": [
        {
          "output_type": "stream",
          "name": "stdout",
          "text": [
            "Train Accuracy: 0.7112650249193785\n",
            "Test Accuracy: 0.7111586147926464\n"
          ]
        },
        {
          "output_type": "stream",
          "name": "stderr",
          "text": [
            "/usr/local/lib/python3.12/dist-packages/sklearn/linear_model/_logistic.py:465: ConvergenceWarning: lbfgs failed to converge (status=1):\n",
            "STOP: TOTAL NO. OF ITERATIONS REACHED LIMIT.\n",
            "\n",
            "Increase the number of iterations (max_iter) or scale the data as shown in:\n",
            "    https://scikit-learn.org/stable/modules/preprocessing.html\n",
            "Please also refer to the documentation for alternative solver options:\n",
            "    https://scikit-learn.org/stable/modules/linear_model.html#logistic-regression\n",
            "  n_iter_i = _check_optimize_result(\n"
          ]
        }
      ],
      "source": [
        "Y, X = dmatrices(formula, df, return_type='dataframe')\n",
        "y = Y['above_2child'].values\n",
        "X_train, X_test, y_train, y_test = train_test_split(X, y, test_size=0.3, random_state=1)\n",
        "\n",
        "model = LogisticRegression(max_iter=10000)\n",
        "result = model.fit(X_train, y_train)\n",
        "\n",
        "prediction_train = model.predict(X_train)\n",
        "print(\"Train Accuracy:\", metrics.accuracy_score(y_train, prediction_train))\n",
        "\n",
        "prediction = model.predict(X_test)\n",
        "print(\"Test Accuracy:\", metrics.accuracy_score(y_test, prediction))"
      ]
    },
    {
      "cell_type": "code",
      "execution_count": 23,
      "id": "8c691262-c08b-42dd-8ea8-a3b6af884b0b",
      "metadata": {
        "colab": {
          "base_uri": "https://localhost:8080/"
        },
        "id": "8c691262-c08b-42dd-8ea8-a3b6af884b0b",
        "outputId": "60795913-911f-43ef-f6fe-7a7d88b2911a"
      },
      "outputs": [
        {
          "output_type": "execute_result",
          "data": {
            "text/plain": [
              "array([10000], dtype=int32)"
            ]
          },
          "metadata": {},
          "execution_count": 23
        }
      ],
      "source": [
        "actual_iterations = model.n_iter_\n",
        "actual_iterations"
      ]
    },
    {
      "cell_type": "code",
      "execution_count": 24,
      "id": "bd5635d9-6d70-4ec6-a0e8-03959849b8e2",
      "metadata": {
        "colab": {
          "base_uri": "https://localhost:8080/",
          "height": 424
        },
        "id": "bd5635d9-6d70-4ec6-a0e8-03959849b8e2",
        "outputId": "47e7ed53-6ac2-4988-a742-2bdd12f157b5"
      },
      "outputs": [
        {
          "output_type": "execute_result",
          "data": {
            "text/plain": [
              "ever_married            2.339292e+00\n",
              "gave_birth_12mo         9.794305e-01\n",
              "AGE                     1.333201e-02\n",
              "PERSON_WEIGHT           9.855925e-04\n",
              "HOUSEHOLD_INCOME        4.559925e-07\n",
              "years_since_marriage   -1.266943e-02\n",
              "education_years        -2.056979e-02\n",
              "has_insurance          -2.446026e-02\n",
              "employed               -1.897246e-01\n",
              "moved_last_year        -4.201212e-01\n",
              "num_times_married      -4.407531e-01\n",
              "dtype: float64"
            ],
            "text/html": [
              "<div>\n",
              "<style scoped>\n",
              "    .dataframe tbody tr th:only-of-type {\n",
              "        vertical-align: middle;\n",
              "    }\n",
              "\n",
              "    .dataframe tbody tr th {\n",
              "        vertical-align: top;\n",
              "    }\n",
              "\n",
              "    .dataframe thead th {\n",
              "        text-align: right;\n",
              "    }\n",
              "</style>\n",
              "<table border=\"1\" class=\"dataframe\">\n",
              "  <thead>\n",
              "    <tr style=\"text-align: right;\">\n",
              "      <th></th>\n",
              "      <th>0</th>\n",
              "    </tr>\n",
              "  </thead>\n",
              "  <tbody>\n",
              "    <tr>\n",
              "      <th>ever_married</th>\n",
              "      <td>2.339292e+00</td>\n",
              "    </tr>\n",
              "    <tr>\n",
              "      <th>gave_birth_12mo</th>\n",
              "      <td>9.794305e-01</td>\n",
              "    </tr>\n",
              "    <tr>\n",
              "      <th>AGE</th>\n",
              "      <td>1.333201e-02</td>\n",
              "    </tr>\n",
              "    <tr>\n",
              "      <th>PERSON_WEIGHT</th>\n",
              "      <td>9.855925e-04</td>\n",
              "    </tr>\n",
              "    <tr>\n",
              "      <th>HOUSEHOLD_INCOME</th>\n",
              "      <td>4.559925e-07</td>\n",
              "    </tr>\n",
              "    <tr>\n",
              "      <th>years_since_marriage</th>\n",
              "      <td>-1.266943e-02</td>\n",
              "    </tr>\n",
              "    <tr>\n",
              "      <th>education_years</th>\n",
              "      <td>-2.056979e-02</td>\n",
              "    </tr>\n",
              "    <tr>\n",
              "      <th>has_insurance</th>\n",
              "      <td>-2.446026e-02</td>\n",
              "    </tr>\n",
              "    <tr>\n",
              "      <th>employed</th>\n",
              "      <td>-1.897246e-01</td>\n",
              "    </tr>\n",
              "    <tr>\n",
              "      <th>moved_last_year</th>\n",
              "      <td>-4.201212e-01</td>\n",
              "    </tr>\n",
              "    <tr>\n",
              "      <th>num_times_married</th>\n",
              "      <td>-4.407531e-01</td>\n",
              "    </tr>\n",
              "  </tbody>\n",
              "</table>\n",
              "</div><br><label><b>dtype:</b> float64</label>"
            ]
          },
          "metadata": {},
          "execution_count": 24
        }
      ],
      "source": [
        "weights = Series(model.coef_[0],\n",
        "                 index=X.columns.values)\n",
        "weights.sort_values(ascending=False)"
      ]
    },
    {
      "cell_type": "markdown",
      "id": "186b1d98-c3c6-4bed-b746-6e58b2963ee4",
      "metadata": {
        "id": "186b1d98-c3c6-4bed-b746-6e58b2963ee4"
      },
      "source": [
        "# XGBoost Classifier --> better test accuracy"
      ]
    },
    {
      "cell_type": "code",
      "execution_count": 25,
      "id": "3ed1f1cb-a6ca-409e-baed-1892a7eb66d8",
      "metadata": {
        "colab": {
          "base_uri": "https://localhost:8080/"
        },
        "id": "3ed1f1cb-a6ca-409e-baed-1892a7eb66d8",
        "outputId": "8f68bedb-fef9-4b9c-87da-51973d626601"
      },
      "outputs": [
        {
          "output_type": "stream",
          "name": "stdout",
          "text": [
            "Train Accuracy: 0.783311345646438\n",
            "Test Accuracy: 0.7718683197947841\n",
            "                 Feature  Importance\n",
            "4   years_since_marriage    0.307522\n",
            "1                    AGE    0.233036\n",
            "2           ever_married    0.102038\n",
            "10       gave_birth_12mo    0.091968\n",
            "6        education_years    0.067486\n",
            "8               employed    0.053227\n",
            "3      num_times_married    0.048148\n",
            "9       HOUSEHOLD_INCOME    0.035536\n",
            "5        moved_last_year    0.030963\n",
            "7          has_insurance    0.017052\n",
            "0          PERSON_WEIGHT    0.013022\n"
          ]
        }
      ],
      "source": [
        "Y, X = dmatrices(formula, df, return_type='dataframe')\n",
        "y = Y['above_2child'].values\n",
        "X_train, X_test, y_train, y_test = train_test_split(X, y, test_size=0.3, random_state=1)\n",
        "\n",
        "xgb_model = XGBClassifier(n_estimators=200,\n",
        "                          learning_rate=0.05,\n",
        "                          max_depth=4)\n",
        "xgb_model.fit(X_train, y_train)\n",
        "\n",
        "train_preds = xgb_model.predict(X_train)\n",
        "test_preds = xgb_model.predict(X_test)\n",
        "print(\"Train Accuracy:\", accuracy_score(y_train, train_preds))\n",
        "print(\"Test Accuracy:\", accuracy_score(y_test, test_preds))\n",
        "\n",
        "#feature importance\n",
        "importances = xgb_model.feature_importances_\n",
        "importance_df = pd.DataFrame({'Feature': X.columns,\n",
        "                              'Importance': importances}).sort_values(by='Importance', ascending=False)\n",
        "print(importance_df)"
      ]
    },
    {
      "cell_type": "code",
      "execution_count": 26,
      "id": "dc33eafd-d17c-47b6-9217-b2c72dbf8378",
      "metadata": {
        "colab": {
          "base_uri": "https://localhost:8080/"
        },
        "id": "dc33eafd-d17c-47b6-9217-b2c72dbf8378",
        "outputId": "4f26938c-9fca-4a2b-f1cb-bae84eb4e1ac"
      },
      "outputs": [
        {
          "output_type": "stream",
          "name": "stdout",
          "text": [
            "Feature Coefficients:\n",
            "0:[years_since_marriage<4] yes=1,no=2,missing=2\n",
            "\t1:[AGE<27] yes=3,no=4,missing=4\n",
            "\t\t3:[gave_birth_12mo<1] yes=7,no=8,missing=8\n",
            "\t\t\t7:[AGE<24] yes=15,no=16,missing=16\n",
            "\t\t\t\t15:leaf=-0.0688483045\n",
            "\t\t\t\t16:leaf=-0.054070022\n",
            "\t\t\t8:[AGE<21] yes=17,no=18,missing=18\n",
            "\t\t\t\t17:leaf=-0.0393472351\n",
            "\t\t\t\t18:leaf=0.0196866132\n",
            "\t\t4:[education_years<16] yes=9,no=10,missing=10\n",
            "\t\t\t9:[AGE<47] yes=19,no=20,missing=20\n",
            "\t\t\t\t19:leaf=0.00432677008\n",
            "\t\t\t\t20:leaf=-0.0333059542\n",
            "\t\t\t10:[num_times_married<2] yes=21,no=22,missing=22\n",
            "\t\t\t\t21:leaf=-0.0486493744\n",
            "\t\t\t\t22:leaf=0.00488385139\n",
            "\t2:[AGE<47] yes=5,no=6,missing=6\n",
            "\t\t5:[years_since_marriage<8] yes=11,no=12,missing=12\n",
            "\t\t\t11:[gave_birth_12mo<1] yes=23,no=24,missing=24\n",
            "\t\t\t\t23:leaf=0.0230839718\n",
            "\t\t\t\t24:leaf=0.0875573605\n",
            "\t\t\t12:[AGE<44] yes=25,no=26,missing=26\n",
            "\t\t\t\t25:leaf=0.084438473\n",
            "\t\t\t\t26:leaf=0.0548806973\n",
            "\t\t6:[AGE<51] yes=13,no=14,missing=14\n",
            "\t\t\t13:[HOUSEHOLD_INCOME<94000] yes=27,no=28,missing=28\n",
            "\t\t\t\t27:leaf=-0.0109430617\n",
            "\t\t\t\t28:leaf=0.024983786\n",
            "\t\t\t14:[HOUSEHOLD_INCOME<90200] yes=29,no=30,missing=30\n",
            "\t\t\t\t29:leaf=-0.0394704938\n",
            "\t\t\t\t30:leaf=-0.0140627101\n",
            "\n"
          ]
        }
      ],
      "source": [
        "print(\"Feature Coefficients:\")\n",
        "print(xgb_model.get_booster().get_dump()[0])"
      ]
    },
    {
      "cell_type": "code",
      "execution_count": 37,
      "id": "f9f292e7-7996-4c1e-a355-cf5d15610dc4",
      "metadata": {
        "scrolled": true,
        "colab": {
          "base_uri": "https://localhost:8080/",
          "height": 564
        },
        "id": "f9f292e7-7996-4c1e-a355-cf5d15610dc4",
        "outputId": "a8be3425-2b1a-4f45-e867-5f853739d837"
      },
      "outputs": [
        {
          "output_type": "execute_result",
          "data": {
            "image/svg+xml": "<?xml version=\"1.0\" encoding=\"UTF-8\" standalone=\"no\"?>\n<!DOCTYPE svg PUBLIC \"-//W3C//DTD SVG 1.1//EN\"\n \"http://www.w3.org/Graphics/SVG/1.1/DTD/svg11.dtd\">\n<!-- Generated by graphviz version 2.43.0 (0)\n -->\n<!-- Title: %3 Pages: 1 -->\n<svg width=\"2878pt\" height=\"392pt\"\n viewBox=\"0.00 0.00 2878.39 392.00\" xmlns=\"http://www.w3.org/2000/svg\" xmlns:xlink=\"http://www.w3.org/1999/xlink\">\n<g id=\"graph0\" class=\"graph\" transform=\"scale(1 1) rotate(0) translate(4 388)\">\n<title>%3</title>\n<polygon fill=\"white\" stroke=\"transparent\" points=\"-4,4 -4,-388 2874.39,-388 2874.39,4 -4,4\"/>\n<!-- 0 -->\n<g id=\"node1\" class=\"node\">\n<title>0</title>\n<ellipse fill=\"none\" stroke=\"black\" cx=\"1311.19\" cy=\"-366\" rx=\"97.48\" ry=\"18\"/>\n<text text-anchor=\"middle\" x=\"1311.19\" y=\"-362.3\" font-family=\"Times,serif\" font-size=\"14.00\">years_since_marriage&lt;4</text>\n</g>\n<!-- 1 -->\n<g id=\"node2\" class=\"node\">\n<title>1</title>\n<ellipse fill=\"none\" stroke=\"black\" cx=\"1038.19\" cy=\"-279\" rx=\"42.79\" ry=\"18\"/>\n<text text-anchor=\"middle\" x=\"1038.19\" y=\"-275.3\" font-family=\"Times,serif\" font-size=\"14.00\">AGE&lt;27</text>\n</g>\n<!-- 0&#45;&gt;1 -->\n<g id=\"edge1\" class=\"edge\">\n<title>0&#45;&gt;1</title>\n<path fill=\"none\" stroke=\"#ff0000\" d=\"M1263.64,-350.19C1212.33,-334.22 1131.33,-309 1081.66,-293.53\"/>\n<polygon fill=\"#ff0000\" stroke=\"#ff0000\" points=\"1082.45,-290.12 1071.86,-290.48 1080.37,-296.8 1082.45,-290.12\"/>\n<text text-anchor=\"middle\" x=\"1200.69\" y=\"-318.8\" font-family=\"Times,serif\" font-size=\"14.00\">yes</text>\n</g>\n<!-- 2 -->\n<g id=\"node3\" class=\"node\">\n<title>2</title>\n<ellipse fill=\"none\" stroke=\"black\" cx=\"1792.19\" cy=\"-279\" rx=\"42.79\" ry=\"18\"/>\n<text text-anchor=\"middle\" x=\"1792.19\" y=\"-275.3\" font-family=\"Times,serif\" font-size=\"14.00\">AGE&lt;47</text>\n</g>\n<!-- 0&#45;&gt;2 -->\n<g id=\"edge2\" class=\"edge\">\n<title>0&#45;&gt;2</title>\n<path fill=\"none\" stroke=\"#0000ff\" d=\"M1379.09,-353C1477.38,-335.63 1656.98,-303.89 1743.31,-288.64\"/>\n<polygon fill=\"#0000ff\" stroke=\"#0000ff\" points=\"1744.12,-292.05 1753.36,-286.86 1742.9,-285.16 1744.12,-292.05\"/>\n<text text-anchor=\"middle\" x=\"1613.19\" y=\"-318.8\" font-family=\"Times,serif\" font-size=\"14.00\">no, missing</text>\n</g>\n<!-- 3 -->\n<g id=\"node4\" class=\"node\">\n<title>3</title>\n<ellipse fill=\"none\" stroke=\"black\" cx=\"544.19\" cy=\"-192\" rx=\"83.39\" ry=\"18\"/>\n<text text-anchor=\"middle\" x=\"544.19\" y=\"-188.3\" font-family=\"Times,serif\" font-size=\"14.00\">gave_birth_12mo&lt;1</text>\n</g>\n<!-- 1&#45;&gt;3 -->\n<g id=\"edge3\" class=\"edge\">\n<title>1&#45;&gt;3</title>\n<path fill=\"none\" stroke=\"#ff0000\" d=\"M999.02,-271.26C916.44,-257.05 723.43,-223.84 617.31,-205.58\"/>\n<polygon fill=\"#ff0000\" stroke=\"#ff0000\" points=\"617.77,-202.11 607.32,-203.86 616.58,-209.01 617.77,-202.11\"/>\n<text text-anchor=\"middle\" x=\"830.69\" y=\"-231.8\" font-family=\"Times,serif\" font-size=\"14.00\">yes</text>\n</g>\n<!-- 4 -->\n<g id=\"node5\" class=\"node\">\n<title>4</title>\n<ellipse fill=\"none\" stroke=\"black\" cx=\"1038.19\" cy=\"-192\" rx=\"81.79\" ry=\"18\"/>\n<text text-anchor=\"middle\" x=\"1038.19\" y=\"-188.3\" font-family=\"Times,serif\" font-size=\"14.00\">education_years&lt;16</text>\n</g>\n<!-- 1&#45;&gt;4 -->\n<g id=\"edge4\" class=\"edge\">\n<title>1&#45;&gt;4</title>\n<path fill=\"none\" stroke=\"#0000ff\" d=\"M1038.19,-260.8C1038.19,-249.16 1038.19,-233.55 1038.19,-220.24\"/>\n<polygon fill=\"#0000ff\" stroke=\"#0000ff\" points=\"1041.69,-220.18 1038.19,-210.18 1034.69,-220.18 1041.69,-220.18\"/>\n<text text-anchor=\"middle\" x=\"1070.19\" y=\"-231.8\" font-family=\"Times,serif\" font-size=\"14.00\">no, missing</text>\n</g>\n<!-- 5 -->\n<g id=\"node18\" class=\"node\">\n<title>5</title>\n<ellipse fill=\"none\" stroke=\"black\" cx=\"1792.19\" cy=\"-192\" rx=\"97.48\" ry=\"18\"/>\n<text text-anchor=\"middle\" x=\"1792.19\" y=\"-188.3\" font-family=\"Times,serif\" font-size=\"14.00\">years_since_marriage&lt;8</text>\n</g>\n<!-- 2&#45;&gt;5 -->\n<g id=\"edge17\" class=\"edge\">\n<title>2&#45;&gt;5</title>\n<path fill=\"none\" stroke=\"#ff0000\" d=\"M1792.19,-260.8C1792.19,-249.16 1792.19,-233.55 1792.19,-220.24\"/>\n<polygon fill=\"#ff0000\" stroke=\"#ff0000\" points=\"1795.69,-220.18 1792.19,-210.18 1788.69,-220.18 1795.69,-220.18\"/>\n<text text-anchor=\"middle\" x=\"1801.69\" y=\"-231.8\" font-family=\"Times,serif\" font-size=\"14.00\">yes</text>\n</g>\n<!-- 6 -->\n<g id=\"node19\" class=\"node\">\n<title>6</title>\n<ellipse fill=\"none\" stroke=\"black\" cx=\"2285.19\" cy=\"-192\" rx=\"42.79\" ry=\"18\"/>\n<text text-anchor=\"middle\" x=\"2285.19\" y=\"-188.3\" font-family=\"Times,serif\" font-size=\"14.00\">AGE&lt;51</text>\n</g>\n<!-- 2&#45;&gt;6 -->\n<g id=\"edge18\" class=\"edge\">\n<title>2&#45;&gt;6</title>\n<path fill=\"none\" stroke=\"#0000ff\" d=\"M1831.29,-271.26C1920.37,-255.9 2138.27,-218.33 2236.16,-201.45\"/>\n<polygon fill=\"#0000ff\" stroke=\"#0000ff\" points=\"2236.83,-204.89 2246.09,-199.74 2235.64,-197.99 2236.83,-204.89\"/>\n<text text-anchor=\"middle\" x=\"2101.19\" y=\"-231.8\" font-family=\"Times,serif\" font-size=\"14.00\">no, missing</text>\n</g>\n<!-- 7 -->\n<g id=\"node6\" class=\"node\">\n<title>7</title>\n<ellipse fill=\"none\" stroke=\"black\" cx=\"263.19\" cy=\"-105\" rx=\"42.79\" ry=\"18\"/>\n<text text-anchor=\"middle\" x=\"263.19\" y=\"-101.3\" font-family=\"Times,serif\" font-size=\"14.00\">AGE&lt;24</text>\n</g>\n<!-- 3&#45;&gt;7 -->\n<g id=\"edge5\" class=\"edge\">\n<title>3&#45;&gt;7</title>\n<path fill=\"none\" stroke=\"#ff0000\" d=\"M497.79,-176.96C444.74,-160.92 358.57,-134.85 306.74,-119.17\"/>\n<polygon fill=\"#ff0000\" stroke=\"#ff0000\" points=\"307.44,-115.73 296.86,-116.18 305.41,-122.43 307.44,-115.73\"/>\n<text text-anchor=\"middle\" x=\"430.69\" y=\"-144.8\" font-family=\"Times,serif\" font-size=\"14.00\">yes</text>\n</g>\n<!-- 8 -->\n<g id=\"node7\" class=\"node\">\n<title>8</title>\n<ellipse fill=\"none\" stroke=\"black\" cx=\"544.19\" cy=\"-105\" rx=\"42.79\" ry=\"18\"/>\n<text text-anchor=\"middle\" x=\"544.19\" y=\"-101.3\" font-family=\"Times,serif\" font-size=\"14.00\">AGE&lt;21</text>\n</g>\n<!-- 3&#45;&gt;8 -->\n<g id=\"edge6\" class=\"edge\">\n<title>3&#45;&gt;8</title>\n<path fill=\"none\" stroke=\"#0000ff\" d=\"M544.19,-173.8C544.19,-162.16 544.19,-146.55 544.19,-133.24\"/>\n<polygon fill=\"#0000ff\" stroke=\"#0000ff\" points=\"547.69,-133.18 544.19,-123.18 540.69,-133.18 547.69,-133.18\"/>\n<text text-anchor=\"middle\" x=\"576.19\" y=\"-144.8\" font-family=\"Times,serif\" font-size=\"14.00\">no, missing</text>\n</g>\n<!-- 9 -->\n<g id=\"node12\" class=\"node\">\n<title>9</title>\n<ellipse fill=\"none\" stroke=\"black\" cx=\"992.19\" cy=\"-105\" rx=\"42.79\" ry=\"18\"/>\n<text text-anchor=\"middle\" x=\"992.19\" y=\"-101.3\" font-family=\"Times,serif\" font-size=\"14.00\">AGE&lt;47</text>\n</g>\n<!-- 4&#45;&gt;9 -->\n<g id=\"edge11\" class=\"edge\">\n<title>4&#45;&gt;9</title>\n<path fill=\"none\" stroke=\"#ff0000\" d=\"M1028.88,-173.8C1022.36,-161.74 1013.52,-145.4 1006.15,-131.79\"/>\n<polygon fill=\"#ff0000\" stroke=\"#ff0000\" points=\"1009.17,-130.01 1001.33,-122.89 1003.01,-133.35 1009.17,-130.01\"/>\n<text text-anchor=\"middle\" x=\"1027.69\" y=\"-144.8\" font-family=\"Times,serif\" font-size=\"14.00\">yes</text>\n</g>\n<!-- 10 -->\n<g id=\"node13\" class=\"node\">\n<title>10</title>\n<ellipse fill=\"none\" stroke=\"black\" cx=\"1176.19\" cy=\"-105\" rx=\"92.88\" ry=\"18\"/>\n<text text-anchor=\"middle\" x=\"1176.19\" y=\"-101.3\" font-family=\"Times,serif\" font-size=\"14.00\">num_times_married&lt;2</text>\n</g>\n<!-- 4&#45;&gt;10 -->\n<g id=\"edge12\" class=\"edge\">\n<title>4&#45;&gt;10</title>\n<path fill=\"none\" stroke=\"#0000ff\" d=\"M1064.47,-174.81C1086.11,-161.49 1116.98,-142.47 1140.79,-127.8\"/>\n<polygon fill=\"#0000ff\" stroke=\"#0000ff\" points=\"1142.86,-130.64 1149.54,-122.42 1139.19,-124.68 1142.86,-130.64\"/>\n<text text-anchor=\"middle\" x=\"1148.19\" y=\"-144.8\" font-family=\"Times,serif\" font-size=\"14.00\">no, missing</text>\n</g>\n<!-- 15 -->\n<g id=\"node8\" class=\"node\">\n<title>15</title>\n<ellipse fill=\"none\" stroke=\"black\" cx=\"83.19\" cy=\"-18\" rx=\"83.39\" ry=\"18\"/>\n<text text-anchor=\"middle\" x=\"83.19\" y=\"-14.3\" font-family=\"Times,serif\" font-size=\"14.00\">leaf=&#45;0.0688483045</text>\n</g>\n<!-- 7&#45;&gt;15 -->\n<g id=\"edge7\" class=\"edge\">\n<title>7&#45;&gt;15</title>\n<path fill=\"none\" stroke=\"#ff0000\" d=\"M235.85,-91.09C206.55,-77.25 159.64,-55.1 125.55,-39\"/>\n<polygon fill=\"#ff0000\" stroke=\"#ff0000\" points=\"126.84,-35.74 116.3,-34.64 123.85,-42.07 126.84,-35.74\"/>\n<text text-anchor=\"middle\" x=\"193.69\" y=\"-57.8\" font-family=\"Times,serif\" font-size=\"14.00\">yes</text>\n</g>\n<!-- 16 -->\n<g id=\"node9\" class=\"node\">\n<title>16</title>\n<ellipse fill=\"none\" stroke=\"black\" cx=\"263.19\" cy=\"-18\" rx=\"78.79\" ry=\"18\"/>\n<text text-anchor=\"middle\" x=\"263.19\" y=\"-14.3\" font-family=\"Times,serif\" font-size=\"14.00\">leaf=&#45;0.054070022</text>\n</g>\n<!-- 7&#45;&gt;16 -->\n<g id=\"edge8\" class=\"edge\">\n<title>7&#45;&gt;16</title>\n<path fill=\"none\" stroke=\"#0000ff\" d=\"M263.19,-86.8C263.19,-75.16 263.19,-59.55 263.19,-46.24\"/>\n<polygon fill=\"#0000ff\" stroke=\"#0000ff\" points=\"266.69,-46.18 263.19,-36.18 259.69,-46.18 266.69,-46.18\"/>\n<text text-anchor=\"middle\" x=\"295.19\" y=\"-57.8\" font-family=\"Times,serif\" font-size=\"14.00\">no, missing</text>\n</g>\n<!-- 17 -->\n<g id=\"node10\" class=\"node\">\n<title>17</title>\n<ellipse fill=\"none\" stroke=\"black\" cx=\"443.19\" cy=\"-18\" rx=\"83.39\" ry=\"18\"/>\n<text text-anchor=\"middle\" x=\"443.19\" y=\"-14.3\" font-family=\"Times,serif\" font-size=\"14.00\">leaf=&#45;0.0393472351</text>\n</g>\n<!-- 8&#45;&gt;17 -->\n<g id=\"edge9\" class=\"edge\">\n<title>8&#45;&gt;17</title>\n<path fill=\"none\" stroke=\"#ff0000\" d=\"M525.67,-88.41C510.26,-75.44 488.1,-56.8 470.64,-42.1\"/>\n<polygon fill=\"#ff0000\" stroke=\"#ff0000\" points=\"472.89,-39.42 462.98,-35.65 468.38,-44.77 472.89,-39.42\"/>\n<text text-anchor=\"middle\" x=\"509.69\" y=\"-57.8\" font-family=\"Times,serif\" font-size=\"14.00\">yes</text>\n</g>\n<!-- 18 -->\n<g id=\"node11\" class=\"node\">\n<title>18</title>\n<ellipse fill=\"none\" stroke=\"black\" cx=\"624.19\" cy=\"-18\" rx=\"79.89\" ry=\"18\"/>\n<text text-anchor=\"middle\" x=\"624.19\" y=\"-14.3\" font-family=\"Times,serif\" font-size=\"14.00\">leaf=0.0196866132</text>\n</g>\n<!-- 8&#45;&gt;18 -->\n<g id=\"edge10\" class=\"edge\">\n<title>8&#45;&gt;18</title>\n<path fill=\"none\" stroke=\"#0000ff\" d=\"M559.24,-88.01C571.08,-75.43 587.77,-57.7 601.27,-43.35\"/>\n<polygon fill=\"#0000ff\" stroke=\"#0000ff\" points=\"604.09,-45.47 608.39,-35.79 598.99,-40.67 604.09,-45.47\"/>\n<text text-anchor=\"middle\" x=\"621.19\" y=\"-57.8\" font-family=\"Times,serif\" font-size=\"14.00\">no, missing</text>\n</g>\n<!-- 19 -->\n<g id=\"node14\" class=\"node\">\n<title>19</title>\n<ellipse fill=\"none\" stroke=\"black\" cx=\"806.19\" cy=\"-18\" rx=\"84.49\" ry=\"18\"/>\n<text text-anchor=\"middle\" x=\"806.19\" y=\"-14.3\" font-family=\"Times,serif\" font-size=\"14.00\">leaf=0.00432677008</text>\n</g>\n<!-- 9&#45;&gt;19 -->\n<g id=\"edge13\" class=\"edge\">\n<title>9&#45;&gt;19</title>\n<path fill=\"none\" stroke=\"#ff0000\" d=\"M964.35,-91.27C933.93,-77.37 884.81,-54.93 849.38,-38.74\"/>\n<polygon fill=\"#ff0000\" stroke=\"#ff0000\" points=\"850.79,-35.53 840.24,-34.56 847.88,-41.9 850.79,-35.53\"/>\n<text text-anchor=\"middle\" x=\"920.69\" y=\"-57.8\" font-family=\"Times,serif\" font-size=\"14.00\">yes</text>\n</g>\n<!-- 20 -->\n<g id=\"node15\" class=\"node\">\n<title>20</title>\n<ellipse fill=\"none\" stroke=\"black\" cx=\"992.19\" cy=\"-18\" rx=\"83.39\" ry=\"18\"/>\n<text text-anchor=\"middle\" x=\"992.19\" y=\"-14.3\" font-family=\"Times,serif\" font-size=\"14.00\">leaf=&#45;0.0333059542</text>\n</g>\n<!-- 9&#45;&gt;20 -->\n<g id=\"edge14\" class=\"edge\">\n<title>9&#45;&gt;20</title>\n<path fill=\"none\" stroke=\"#0000ff\" d=\"M992.19,-86.8C992.19,-75.16 992.19,-59.55 992.19,-46.24\"/>\n<polygon fill=\"#0000ff\" stroke=\"#0000ff\" points=\"995.69,-46.18 992.19,-36.18 988.69,-46.18 995.69,-46.18\"/>\n<text text-anchor=\"middle\" x=\"1024.19\" y=\"-57.8\" font-family=\"Times,serif\" font-size=\"14.00\">no, missing</text>\n</g>\n<!-- 21 -->\n<g id=\"node16\" class=\"node\">\n<title>21</title>\n<ellipse fill=\"none\" stroke=\"black\" cx=\"1176.19\" cy=\"-18\" rx=\"83.39\" ry=\"18\"/>\n<text text-anchor=\"middle\" x=\"1176.19\" y=\"-14.3\" font-family=\"Times,serif\" font-size=\"14.00\">leaf=&#45;0.0486493744</text>\n</g>\n<!-- 10&#45;&gt;21 -->\n<g id=\"edge15\" class=\"edge\">\n<title>10&#45;&gt;21</title>\n<path fill=\"none\" stroke=\"#ff0000\" d=\"M1176.19,-86.8C1176.19,-75.16 1176.19,-59.55 1176.19,-46.24\"/>\n<polygon fill=\"#ff0000\" stroke=\"#ff0000\" points=\"1179.69,-46.18 1176.19,-36.18 1172.69,-46.18 1179.69,-46.18\"/>\n<text text-anchor=\"middle\" x=\"1185.69\" y=\"-57.8\" font-family=\"Times,serif\" font-size=\"14.00\">yes</text>\n</g>\n<!-- 22 -->\n<g id=\"node17\" class=\"node\">\n<title>22</title>\n<ellipse fill=\"none\" stroke=\"black\" cx=\"1362.19\" cy=\"-18\" rx=\"84.49\" ry=\"18\"/>\n<text text-anchor=\"middle\" x=\"1362.19\" y=\"-14.3\" font-family=\"Times,serif\" font-size=\"14.00\">leaf=0.00488385139</text>\n</g>\n<!-- 10&#45;&gt;22 -->\n<g id=\"edge16\" class=\"edge\">\n<title>10&#45;&gt;22</title>\n<path fill=\"none\" stroke=\"#0000ff\" d=\"M1210.74,-88.21C1241.24,-74.27 1285.85,-53.89 1318.76,-38.85\"/>\n<polygon fill=\"#0000ff\" stroke=\"#0000ff\" points=\"1320.5,-41.9 1328.14,-34.56 1317.59,-35.53 1320.5,-41.9\"/>\n<text text-anchor=\"middle\" x=\"1313.19\" y=\"-57.8\" font-family=\"Times,serif\" font-size=\"14.00\">no, missing</text>\n</g>\n<!-- 11 -->\n<g id=\"node20\" class=\"node\">\n<title>11</title>\n<ellipse fill=\"none\" stroke=\"black\" cx=\"1722.19\" cy=\"-105\" rx=\"83.39\" ry=\"18\"/>\n<text text-anchor=\"middle\" x=\"1722.19\" y=\"-101.3\" font-family=\"Times,serif\" font-size=\"14.00\">gave_birth_12mo&lt;1</text>\n</g>\n<!-- 5&#45;&gt;11 -->\n<g id=\"edge19\" class=\"edge\">\n<title>5&#45;&gt;11</title>\n<path fill=\"none\" stroke=\"#ff0000\" d=\"M1778.03,-173.8C1767.81,-161.39 1753.86,-144.46 1742.47,-130.62\"/>\n<polygon fill=\"#ff0000\" stroke=\"#ff0000\" points=\"1745.16,-128.38 1736.1,-122.89 1739.75,-132.83 1745.16,-128.38\"/>\n<text text-anchor=\"middle\" x=\"1771.69\" y=\"-144.8\" font-family=\"Times,serif\" font-size=\"14.00\">yes</text>\n</g>\n<!-- 12 -->\n<g id=\"node21\" class=\"node\">\n<title>12</title>\n<ellipse fill=\"none\" stroke=\"black\" cx=\"1895.19\" cy=\"-105\" rx=\"42.79\" ry=\"18\"/>\n<text text-anchor=\"middle\" x=\"1895.19\" y=\"-101.3\" font-family=\"Times,serif\" font-size=\"14.00\">AGE&lt;44</text>\n</g>\n<!-- 5&#45;&gt;12 -->\n<g id=\"edge20\" class=\"edge\">\n<title>5&#45;&gt;12</title>\n<path fill=\"none\" stroke=\"#0000ff\" d=\"M1812.54,-174.21C1828.56,-160.98 1851.03,-142.45 1868.49,-128.03\"/>\n<polygon fill=\"#0000ff\" stroke=\"#0000ff\" points=\"1871.13,-130.39 1876.62,-121.33 1866.68,-125 1871.13,-130.39\"/>\n<text text-anchor=\"middle\" x=\"1882.19\" y=\"-144.8\" font-family=\"Times,serif\" font-size=\"14.00\">no, missing</text>\n</g>\n<!-- 13 -->\n<g id=\"node26\" class=\"node\">\n<title>13</title>\n<ellipse fill=\"none\" stroke=\"black\" cx=\"2285.19\" cy=\"-105\" rx=\"131.08\" ry=\"18\"/>\n<text text-anchor=\"middle\" x=\"2285.19\" y=\"-101.3\" font-family=\"Times,serif\" font-size=\"14.00\">HOUSEHOLD_INCOME&lt;94000</text>\n</g>\n<!-- 6&#45;&gt;13 -->\n<g id=\"edge25\" class=\"edge\">\n<title>6&#45;&gt;13</title>\n<path fill=\"none\" stroke=\"#ff0000\" d=\"M2285.19,-173.8C2285.19,-162.16 2285.19,-146.55 2285.19,-133.24\"/>\n<polygon fill=\"#ff0000\" stroke=\"#ff0000\" points=\"2288.69,-133.18 2285.19,-123.18 2281.69,-133.18 2288.69,-133.18\"/>\n<text text-anchor=\"middle\" x=\"2294.69\" y=\"-144.8\" font-family=\"Times,serif\" font-size=\"14.00\">yes</text>\n</g>\n<!-- 14 -->\n<g id=\"node27\" class=\"node\">\n<title>14</title>\n<ellipse fill=\"none\" stroke=\"black\" cx=\"2603.19\" cy=\"-105\" rx=\"131.08\" ry=\"18\"/>\n<text text-anchor=\"middle\" x=\"2603.19\" y=\"-101.3\" font-family=\"Times,serif\" font-size=\"14.00\">HOUSEHOLD_INCOME&lt;90200</text>\n</g>\n<!-- 6&#45;&gt;14 -->\n<g id=\"edge26\" class=\"edge\">\n<title>6&#45;&gt;14</title>\n<path fill=\"none\" stroke=\"#0000ff\" d=\"M2320.44,-181.58C2372.35,-167.7 2470.32,-141.52 2536.19,-123.91\"/>\n<polygon fill=\"#0000ff\" stroke=\"#0000ff\" points=\"2537.31,-127.23 2546.07,-121.27 2535.5,-120.47 2537.31,-127.23\"/>\n<text text-anchor=\"middle\" x=\"2496.19\" y=\"-144.8\" font-family=\"Times,serif\" font-size=\"14.00\">no, missing</text>\n</g>\n<!-- 23 -->\n<g id=\"node22\" class=\"node\">\n<title>23</title>\n<ellipse fill=\"none\" stroke=\"black\" cx=\"1544.19\" cy=\"-18\" rx=\"79.89\" ry=\"18\"/>\n<text text-anchor=\"middle\" x=\"1544.19\" y=\"-14.3\" font-family=\"Times,serif\" font-size=\"14.00\">leaf=0.0230839718</text>\n</g>\n<!-- 11&#45;&gt;23 -->\n<g id=\"edge21\" class=\"edge\">\n<title>11&#45;&gt;23</title>\n<path fill=\"none\" stroke=\"#ff0000\" d=\"M1689.54,-88.41C1660.44,-74.51 1617.67,-54.09 1586.06,-38.99\"/>\n<polygon fill=\"#ff0000\" stroke=\"#ff0000\" points=\"1587.17,-35.64 1576.63,-34.49 1584.15,-41.96 1587.17,-35.64\"/>\n<text text-anchor=\"middle\" x=\"1653.69\" y=\"-57.8\" font-family=\"Times,serif\" font-size=\"14.00\">yes</text>\n</g>\n<!-- 24 -->\n<g id=\"node23\" class=\"node\">\n<title>24</title>\n<ellipse fill=\"none\" stroke=\"black\" cx=\"1722.19\" cy=\"-18\" rx=\"79.89\" ry=\"18\"/>\n<text text-anchor=\"middle\" x=\"1722.19\" y=\"-14.3\" font-family=\"Times,serif\" font-size=\"14.00\">leaf=0.0875573605</text>\n</g>\n<!-- 11&#45;&gt;24 -->\n<g id=\"edge22\" class=\"edge\">\n<title>11&#45;&gt;24</title>\n<path fill=\"none\" stroke=\"#0000ff\" d=\"M1722.19,-86.8C1722.19,-75.16 1722.19,-59.55 1722.19,-46.24\"/>\n<polygon fill=\"#0000ff\" stroke=\"#0000ff\" points=\"1725.69,-46.18 1722.19,-36.18 1718.69,-46.18 1725.69,-46.18\"/>\n<text text-anchor=\"middle\" x=\"1754.19\" y=\"-57.8\" font-family=\"Times,serif\" font-size=\"14.00\">no, missing</text>\n</g>\n<!-- 25 -->\n<g id=\"node24\" class=\"node\">\n<title>25</title>\n<ellipse fill=\"none\" stroke=\"black\" cx=\"1895.19\" cy=\"-18\" rx=\"75.29\" ry=\"18\"/>\n<text text-anchor=\"middle\" x=\"1895.19\" y=\"-14.3\" font-family=\"Times,serif\" font-size=\"14.00\">leaf=0.084438473</text>\n</g>\n<!-- 12&#45;&gt;25 -->\n<g id=\"edge23\" class=\"edge\">\n<title>12&#45;&gt;25</title>\n<path fill=\"none\" stroke=\"#ff0000\" d=\"M1895.19,-86.8C1895.19,-75.16 1895.19,-59.55 1895.19,-46.24\"/>\n<polygon fill=\"#ff0000\" stroke=\"#ff0000\" points=\"1898.69,-46.18 1895.19,-36.18 1891.69,-46.18 1898.69,-46.18\"/>\n<text text-anchor=\"middle\" x=\"1904.69\" y=\"-57.8\" font-family=\"Times,serif\" font-size=\"14.00\">yes</text>\n</g>\n<!-- 26 -->\n<g id=\"node25\" class=\"node\">\n<title>26</title>\n<ellipse fill=\"none\" stroke=\"black\" cx=\"2068.19\" cy=\"-18\" rx=\"79.89\" ry=\"18\"/>\n<text text-anchor=\"middle\" x=\"2068.19\" y=\"-14.3\" font-family=\"Times,serif\" font-size=\"14.00\">leaf=0.0548806973</text>\n</g>\n<!-- 12&#45;&gt;26 -->\n<g id=\"edge24\" class=\"edge\">\n<title>12&#45;&gt;26</title>\n<path fill=\"none\" stroke=\"#0000ff\" d=\"M1922.22,-90.72C1950.33,-76.91 1994.69,-55.12 2027.13,-39.18\"/>\n<polygon fill=\"#0000ff\" stroke=\"#0000ff\" points=\"2028.93,-42.19 2036.36,-34.64 2025.84,-35.91 2028.93,-42.19\"/>\n<text text-anchor=\"middle\" x=\"2024.19\" y=\"-57.8\" font-family=\"Times,serif\" font-size=\"14.00\">no, missing</text>\n</g>\n<!-- 27 -->\n<g id=\"node28\" class=\"node\">\n<title>27</title>\n<ellipse fill=\"none\" stroke=\"black\" cx=\"2249.19\" cy=\"-18\" rx=\"83.39\" ry=\"18\"/>\n<text text-anchor=\"middle\" x=\"2249.19\" y=\"-14.3\" font-family=\"Times,serif\" font-size=\"14.00\">leaf=&#45;0.0109430617</text>\n</g>\n<!-- 13&#45;&gt;27 -->\n<g id=\"edge27\" class=\"edge\">\n<title>13&#45;&gt;27</title>\n<path fill=\"none\" stroke=\"#ff0000\" d=\"M2277.91,-86.8C2272.88,-74.93 2266.1,-58.93 2260.39,-45.45\"/>\n<polygon fill=\"#ff0000\" stroke=\"#ff0000\" points=\"2263.59,-44.02 2256.47,-36.18 2257.14,-46.75 2263.59,-44.02\"/>\n<text text-anchor=\"middle\" x=\"2279.69\" y=\"-57.8\" font-family=\"Times,serif\" font-size=\"14.00\">yes</text>\n</g>\n<!-- 28 -->\n<g id=\"node29\" class=\"node\">\n<title>28</title>\n<ellipse fill=\"none\" stroke=\"black\" cx=\"2426.19\" cy=\"-18\" rx=\"75.29\" ry=\"18\"/>\n<text text-anchor=\"middle\" x=\"2426.19\" y=\"-14.3\" font-family=\"Times,serif\" font-size=\"14.00\">leaf=0.024983786</text>\n</g>\n<!-- 13&#45;&gt;28 -->\n<g id=\"edge28\" class=\"edge\">\n<title>13&#45;&gt;28</title>\n<path fill=\"none\" stroke=\"#0000ff\" d=\"M2313.05,-87.21C2335.4,-73.74 2366.9,-54.75 2390.99,-40.22\"/>\n<polygon fill=\"#0000ff\" stroke=\"#0000ff\" points=\"2393.07,-43.06 2399.82,-34.9 2389.45,-37.06 2393.07,-43.06\"/>\n<text text-anchor=\"middle\" x=\"2396.19\" y=\"-57.8\" font-family=\"Times,serif\" font-size=\"14.00\">no, missing</text>\n</g>\n<!-- 29 -->\n<g id=\"node30\" class=\"node\">\n<title>29</title>\n<ellipse fill=\"none\" stroke=\"black\" cx=\"2603.19\" cy=\"-18\" rx=\"83.39\" ry=\"18\"/>\n<text text-anchor=\"middle\" x=\"2603.19\" y=\"-14.3\" font-family=\"Times,serif\" font-size=\"14.00\">leaf=&#45;0.0394704938</text>\n</g>\n<!-- 14&#45;&gt;29 -->\n<g id=\"edge29\" class=\"edge\">\n<title>14&#45;&gt;29</title>\n<path fill=\"none\" stroke=\"#ff0000\" d=\"M2603.19,-86.8C2603.19,-75.16 2603.19,-59.55 2603.19,-46.24\"/>\n<polygon fill=\"#ff0000\" stroke=\"#ff0000\" points=\"2606.69,-46.18 2603.19,-36.18 2599.69,-46.18 2606.69,-46.18\"/>\n<text text-anchor=\"middle\" x=\"2612.69\" y=\"-57.8\" font-family=\"Times,serif\" font-size=\"14.00\">yes</text>\n</g>\n<!-- 30 -->\n<g id=\"node31\" class=\"node\">\n<title>30</title>\n<ellipse fill=\"none\" stroke=\"black\" cx=\"2787.19\" cy=\"-18\" rx=\"83.39\" ry=\"18\"/>\n<text text-anchor=\"middle\" x=\"2787.19\" y=\"-14.3\" font-family=\"Times,serif\" font-size=\"14.00\">leaf=&#45;0.0140627101</text>\n</g>\n<!-- 14&#45;&gt;30 -->\n<g id=\"edge30\" class=\"edge\">\n<title>14&#45;&gt;30</title>\n<path fill=\"none\" stroke=\"#0000ff\" d=\"M2638.67,-87.61C2668.89,-73.65 2712.41,-53.55 2744.53,-38.71\"/>\n<polygon fill=\"#0000ff\" stroke=\"#0000ff\" points=\"2746.07,-41.85 2753.68,-34.48 2743.14,-35.5 2746.07,-41.85\"/>\n<text text-anchor=\"middle\" x=\"2739.19\" y=\"-57.8\" font-family=\"Times,serif\" font-size=\"14.00\">no, missing</text>\n</g>\n</g>\n</svg>\n",
            "text/plain": [
              "<graphviz.sources.Source at 0x783609ae7080>"
            ]
          },
          "metadata": {},
          "execution_count": 37
        }
      ],
      "source": [
        "import graphviz\n",
        "import xgboost as xgb\n",
        "\n",
        "# Get the tree dump in dot format\n",
        "tree_dump = xgb_model.get_booster().get_dump(dump_format='dot')[0]\n",
        "\n",
        "# Create a graphviz Source object from the dot string\n",
        "graphviz.Source(tree_dump)"
      ]
    },
    {
      "cell_type": "markdown",
      "id": "30b40076-8f71-4aa6-a062-affcf9b1ff85",
      "metadata": {
        "id": "30b40076-8f71-4aa6-a062-affcf9b1ff85"
      },
      "source": [
        "# Model Evaluation (XGBoost)"
      ]
    },
    {
      "cell_type": "code",
      "execution_count": 38,
      "id": "2509188c-2657-4c18-86ed-79a45cbebbee",
      "metadata": {
        "colab": {
          "base_uri": "https://localhost:8080/"
        },
        "id": "2509188c-2657-4c18-86ed-79a45cbebbee",
        "outputId": "636ee8d0-d6be-4a70-b3af-68ddd1ffdf28"
      },
      "outputs": [
        {
          "output_type": "execute_result",
          "data": {
            "text/plain": [
              "array([[7210, 1090],\n",
              "       [1578, 1817]])"
            ]
          },
          "metadata": {},
          "execution_count": 38
        }
      ],
      "source": [
        "confusion_matrix(y_test, test_preds)"
      ]
    },
    {
      "cell_type": "markdown",
      "id": "01eb2c30-15cb-462c-b974-fd486a825c87",
      "metadata": {
        "id": "01eb2c30-15cb-462c-b974-fd486a825c87"
      },
      "source": [
        "# Cross-Validation to find optimal n_estimators & max_depth"
      ]
    },
    {
      "cell_type": "markdown",
      "id": "c33b4c46-8147-4b5b-a135-0f5c4a5c0463",
      "metadata": {
        "id": "c33b4c46-8147-4b5b-a135-0f5c4a5c0463"
      },
      "source": [
        "### n_estimators = 200, max_depth = 4"
      ]
    },
    {
      "cell_type": "code",
      "execution_count": 39,
      "id": "d1b71312-6c5b-4cf4-bb00-e9c2c2e31029",
      "metadata": {
        "colab": {
          "base_uri": "https://localhost:8080/",
          "height": 466
        },
        "id": "d1b71312-6c5b-4cf4-bb00-e9c2c2e31029",
        "outputId": "5596ef62-4b44-43ca-a7c0-96a222621fb7"
      },
      "outputs": [
        {
          "output_type": "execute_result",
          "data": {
            "text/plain": [
              "Text(0, 0.5, 'Test accuracy')"
            ]
          },
          "metadata": {},
          "execution_count": 39
        },
        {
          "output_type": "display_data",
          "data": {
            "text/plain": [
              "<Figure size 640x480 with 1 Axes>"
            ],
            "image/png": "[encoded data removed]"
          },
          "metadata": {}
        }
      ],
      "source": [
        "scores = {}\n",
        "for depth in range(1, 11):\n",
        "    model = XGBClassifier(n_estimators=200,\n",
        "                          max_depth=depth,\n",
        "                          random_state=1)\n",
        "    model.fit(X_train, y_train)\n",
        "    prediction_test = model.predict(X_test)\n",
        "    accuracy_test = metrics.accuracy_score(y_test, prediction_test)\n",
        "    scores[depth] = accuracy_test\n",
        "Series(scores).sort_index().plot()\n",
        "plt.xlabel('Depth of trees in ensemble')\n",
        "plt.ylabel('Test accuracy')"
      ]
    },
    {
      "cell_type": "code",
      "execution_count": 40,
      "id": "0bf893aa-e0d1-4af2-9870-e05debfce19d",
      "metadata": {
        "colab": {
          "base_uri": "https://localhost:8080/",
          "height": 466
        },
        "id": "0bf893aa-e0d1-4af2-9870-e05debfce19d",
        "outputId": "a75eefef-b0d0-4951-b2d3-49e06952c156"
      },
      "outputs": [
        {
          "output_type": "execute_result",
          "data": {
            "text/plain": [
              "Text(0, 0.5, 'Test accuracy')"
            ]
          },
          "metadata": {},
          "execution_count": 40
        },
        {
          "output_type": "display_data",
          "data": {
            "text/plain": [
              "<Figure size 640x480 with 1 Axes>"
            ],
            "image/png": "[encoded data removed]"
          },
          "metadata": {}
        }
      ],
      "source": [
        "scores = {}\n",
        "for num_trees in [50, 100, 200, 300, 400]:\n",
        "    model = XGBClassifier(n_estimators=num_trees,\n",
        "                          max_depth=4,\n",
        "                          random_state=1)\n",
        "    model.fit(X_train, y_train)\n",
        "    prediction_test = model.predict(X_test)\n",
        "    accuracy_test = metrics.accuracy_score(y_test, prediction_test)\n",
        "    scores[num_trees] = accuracy_test\n",
        "Series(scores).sort_index().plot()\n",
        "plt.xlabel('Number of trees in ensemble')\n",
        "plt.ylabel('Test accuracy')"
      ]
    }
  ],
  "metadata": {
    "kernelspec": {
      "display_name": "Python 3 (ipykernel)",
      "language": "python",
      "name": "python3"
    },
    "language_info": {
      "codemirror_mode": {
        "name": "ipython",
        "version": 3
      },
      "file_extension": ".py",
      "mimetype": "text/x-python",
      "name": "python",
      "nbconvert_exporter": "python",
      "pygments_lexer": "ipython3",
      "version": "3.13.5"
    },
    "colab": {
      "provenance": []
    }
  },
  "nbformat": 4,
  "nbformat_minor": 5
}